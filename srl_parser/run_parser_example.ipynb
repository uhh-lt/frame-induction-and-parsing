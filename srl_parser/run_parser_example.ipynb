{
 "cells": [
  {
   "cell_type": "code",
   "execution_count": null,
   "id": "electric-gnome",
   "metadata": {},
   "outputs": [],
   "source": [
    "DEVICE = 0\n",
    "PATH = '../parser_workdir'\n",
    "OUTPUT_DIR = f'{PATH}/srl_parser'\n",
    "# if you want to use validation option, by default it is true already\n",
    "VALIDATE=True\n",
    "USE_PREDICATE=True\n",
    "if USE_PREDICATE:\n",
    "    OUTPUT_DIR = f'{OUTPUT_DIR}_goldpredicate'\n",
    "if not VALIDATE:\n",
    "    OUTPUT_DIR = f'{OUTPUT_DIR}_novalidation'\n",
    "\n",
    "print(f'VALIDATE:{VALIDATE}, USE_PREDICATE:{USE_PREDICATE}, OUTPUT_DIR:{OUTPUT_DIR}')    "
   ]
  },
  {
   "cell_type": "code",
   "execution_count": null,
   "id": "automatic-commissioner",
   "metadata": {},
   "outputs": [],
   "source": [
    "EP = 50\n",
    "\n",
    "lines = \"\"\"010pc_verbs\t574\n",
    "020pc_verbs\t1148\n",
    "030pc_verbs\t1722\n",
    "040pc_verbs\t2296\n",
    "050pc_verbs\t2870\n",
    "100pc_verbs\t5739\"\"\".split('\\n')\n",
    "\n",
    "steps = [int(l.split('\\t')[-1]) for l in lines]\n",
    "exps = [l.split('\\t')[0] for l in lines]\n"
   ]
  },
  {
   "cell_type": "code",
   "execution_count": null,
   "id": "british-values",
   "metadata": {},
   "outputs": [],
   "source": [
    "i = 1\n",
    "# # ------------------------------------------------------------------------------------\n",
    "\n",
    "exps_dir = 'nPc_verbs_randAllExps'\n",
    "exp = exps[i]\n",
    "EXP = f'{exps_dir}/{exps[i]}'\n",
    "\n",
    "# # # ------------------------------------------------------------------------------------\n",
    "# EP = round(EP/3)\n",
    "# exps_dir = 'expanded_nPc_verbs_randAllExps'\n",
    "\n",
    "# # preds_model = 'bert'\n",
    "# preds_model = 'xlnet_embs_hypers'\n",
    "\n",
    "# print(f\"preds_model:{preds_model}\")\n",
    "\n",
    "# exp = exps[i]+'_expanded_nouns-50pc'\n",
    "# EXP = f'{exps_dir}/{exp}/{preds_model}/lugold_rolegold_nltk_nolemma_N2'\n",
    "# # ------------------------------------------------------------------------------------\n",
    "\n",
    "RUNS='01,02,03,04,05,06,07,08,09,10'.split(',')\n",
    "STEPS = steps[i] * EP\n",
    "\n",
    "print(f\"Experiment:{exp}\")\n",
    "print(f\"Epochs:{EP}\")"
   ]
  },
  {
   "cell_type": "code",
   "execution_count": null,
   "id": "incorporated-first",
   "metadata": {},
   "outputs": [],
   "source": [
    "RUN = RUNS[0]\n",
    "print(f\"{'*'*25}\\nRUN:{RUN}\\n{'*'*25}\")\n",
    "!CUDA_VISIBLE_DEVICES=$DEVICE HYDRA_CONFIG_PATH=./run_srl_parser.yaml python ./run_srl_parser.py \\\n",
    "do_train=True do_predict=True \\\n",
    "main_dir=$PATH \\\n",
    "output_dir=$OUTPUT_DIR\\\n",
    "training.num_epochs=$EP\\\n",
    "training.enable_validation=$VALIDATE\\ #optional\n",
    "model.use_predicate=$USE_PREDICATE\\\n",
    "exp_dir=$EXP \\\n",
    "model_run=$RUN"
   ]
  }
 ],
 "metadata": {
  "kernelspec": {
   "display_name": "Python 3 (ipykernel)",
   "language": "python",
   "name": "python3"
  },
  "language_info": {
   "codemirror_mode": {
    "name": "ipython",
    "version": 3
   },
   "file_extension": ".py",
   "mimetype": "text/x-python",
   "name": "python",
   "nbconvert_exporter": "python",
   "pygments_lexer": "ipython3",
   "version": "3.7.9"
  }
 },
 "nbformat": 4,
 "nbformat_minor": 5
}
