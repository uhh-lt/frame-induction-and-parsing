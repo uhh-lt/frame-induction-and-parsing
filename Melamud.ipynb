{
 "cells": [
  {
   "cell_type": "code",
   "execution_count": null,
   "metadata": {},
   "outputs": [],
   "source": [
    "# ! wget http://nlp.stanford.edu/software/stanford-corenlp-full-2018-10-05.zip\n",
    "# ! wget http://nlp.stanford.edu/software/stanford-corenlp-4.2.0.zip"
   ]
  },
  {
   "cell_type": "markdown",
   "metadata": {},
   "source": [
    "### extract context using context_extractor.py\n",
    "start server in a screen session, from within stanford-corenlp-XXX directory\n",
    "```java\n",
    "java -mx4g -cp \"*\" edu.stanford.nlp.pipeline.StanfordCoreNLPServer -port 9000 -timeout 15000\n",
    "```\n",
    "\n",
    "assuming server is running at port 9000\n",
    "```python\n",
    "! python -m src.context_extractor --input_file workdir/data/swv_T.pkl --output_file workdir/data/swv_Tp.pkl --jobs 16 --port 9000\n",
    "```"
   ]
  },
  {
   "cell_type": "markdown",
   "metadata": {},
   "source": [
    "### then execute run_melamud_parallel.py\n",
    "Most experiments were run using pandrallel library, but also using parallel_process\n",
    "```python\n",
    "! python -m src.run_melamud_parallel --input_file workdir/data/swv_Tp.pkl --result_dir workdir/paper_verbs_st/melamud_balmult --metric balmult --jobs 36\n",
    "```"
   ]
  },
  {
   "cell_type": "code",
   "execution_count": null,
   "metadata": {},
   "outputs": [],
   "source": []
  }
 ],
 "metadata": {
  "kernelspec": {
   "display_name": "Python 3 (ipykernel)",
   "language": "python",
   "name": "python3"
  },
  "language_info": {
   "codemirror_mode": {
    "name": "ipython",
    "version": 3
   },
   "file_extension": ".py",
   "mimetype": "text/x-python",
   "name": "python",
   "nbconvert_exporter": "python",
   "pygments_lexer": "ipython3",
   "version": "3.7.9"
  }
 },
 "nbformat": 4,
 "nbformat_minor": 2
}
