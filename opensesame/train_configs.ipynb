{
 "cells": [
  {
   "cell_type": "code",
   "execution_count": 2,
   "id": "promotional-possible",
   "metadata": {},
   "outputs": [],
   "source": [
    "import json\n",
    "import os\n",
    "from glob import glob"
   ]
  },
  {
   "cell_type": "code",
   "execution_count": 19,
   "id": "electronic-bacteria",
   "metadata": {
    "scrolled": true
   },
   "outputs": [
    {
     "name": "stdout",
     "output_type": "stream",
     "text": [
      "../parser_workdir/srl_parser/expanded_nPc_verbs_randAllExps_NEW/040pc_verbs_expanded_lu_roles_nouns-50pc/xlnet_embs_hypers/lugold_rolegold_nltk_nolemma_role_stopwords_N2/05/model_state_epoch_16.th\n",
      "../parser_workdir/srl_parser/expanded_nPc_verbs_randAllExps_NEW/040pc_verbs_expanded_lu_roles_nouns-50pc/xlnet_embs_hypers/lugold_rolegold_nltk_nolemma_role_stopwords_N2/05/training_state_epoch_16.th\n",
      "../parser_workdir/srl_parser/expanded_nPc_verbs_randAllExps_NEW/040pc_verbs_expanded_lu_roles_nouns-50pc/xlnet_embs_hypers/lugold_rolegold_nltk_nolemma_role_stopwords_N2/10/model_state_epoch_16.th\n",
      "../parser_workdir/srl_parser/expanded_nPc_verbs_randAllExps_NEW/040pc_verbs_expanded_lu_roles_nouns-50pc/xlnet_embs_hypers/lugold_rolegold_nltk_nolemma_role_stopwords_N2/10/training_state_epoch_16.th\n",
      "../parser_workdir/srl_parser/expanded_nPc_verbs_randAllExps_NEW/040pc_verbs_expanded_lu_roles_nouns-50pc/xlnet_embs_hypers/lugold_rolegold_nltk_nolemma_role_stopwords_N2/06/model_state_epoch_16.th\n",
      "../parser_workdir/srl_parser/expanded_nPc_verbs_randAllExps_NEW/040pc_verbs_expanded_lu_roles_nouns-50pc/xlnet_embs_hypers/lugold_rolegold_nltk_nolemma_role_stopwords_N2/06/training_state_epoch_16.th\n",
      "../parser_workdir/srl_parser/expanded_nPc_verbs_randAllExps_NEW/040pc_verbs_expanded_lu_roles_nouns-50pc/xlnet_embs_hypers/lugold_rolegold_nltk_nolemma_role_stopwords_N2/02/model_state_epoch_16.th\n",
      "../parser_workdir/srl_parser/expanded_nPc_verbs_randAllExps_NEW/040pc_verbs_expanded_lu_roles_nouns-50pc/xlnet_embs_hypers/lugold_rolegold_nltk_nolemma_role_stopwords_N2/02/training_state_epoch_16.th\n",
      "../parser_workdir/srl_parser/expanded_nPc_verbs_randAllExps_NEW/040pc_verbs_expanded_lu_roles_nouns-50pc/xlnet_embs_hypers/lugold_rolegold_nltk_nolemma_role_stopwords_N2/03/model_state_epoch_16.th\n",
      "../parser_workdir/srl_parser/expanded_nPc_verbs_randAllExps_NEW/040pc_verbs_expanded_lu_roles_nouns-50pc/xlnet_embs_hypers/lugold_rolegold_nltk_nolemma_role_stopwords_N2/03/training_state_epoch_16.th\n",
      "../parser_workdir/srl_parser/expanded_nPc_verbs_randAllExps_NEW/040pc_verbs_expanded_lu_roles_nouns-50pc/xlnet_embs_hypers/lugold_rolegold_nltk_nolemma_role_stopwords_N2/04/model_state_epoch_16.th\n",
      "../parser_workdir/srl_parser/expanded_nPc_verbs_randAllExps_NEW/040pc_verbs_expanded_lu_roles_nouns-50pc/xlnet_embs_hypers/lugold_rolegold_nltk_nolemma_role_stopwords_N2/04/training_state_epoch_16.th\n",
      "../parser_workdir/srl_parser/expanded_nPc_verbs_randAllExps_NEW/040pc_verbs_expanded_lu_roles_nouns-50pc/xlnet_embs_hypers/lugold_rolegold_nltk_nolemma_role_stopwords_N2/09/model_state_epoch_16.th\n",
      "../parser_workdir/srl_parser/expanded_nPc_verbs_randAllExps_NEW/040pc_verbs_expanded_lu_roles_nouns-50pc/xlnet_embs_hypers/lugold_rolegold_nltk_nolemma_role_stopwords_N2/09/training_state_epoch_16.th\n",
      "../parser_workdir/srl_parser/expanded_nPc_verbs_randAllExps_NEW/040pc_verbs_expanded_lu_roles_nouns-50pc/xlnet_embs_hypers/lugold_rolegold_nltk_nolemma_role_stopwords_N2/08/model_state_epoch_16.th\n",
      "../parser_workdir/srl_parser/expanded_nPc_verbs_randAllExps_NEW/040pc_verbs_expanded_lu_roles_nouns-50pc/xlnet_embs_hypers/lugold_rolegold_nltk_nolemma_role_stopwords_N2/08/training_state_epoch_16.th\n",
      "../parser_workdir/srl_parser/expanded_nPc_verbs_randAllExps_NEW/040pc_verbs_expanded_lu_roles_nouns-50pc/xlnet_embs_hypers/lugold_rolegold_nltk_nolemma_role_stopwords_N2/01/model_state_epoch_16.th\n",
      "../parser_workdir/srl_parser/expanded_nPc_verbs_randAllExps_NEW/040pc_verbs_expanded_lu_roles_nouns-50pc/xlnet_embs_hypers/lugold_rolegold_nltk_nolemma_role_stopwords_N2/01/training_state_epoch_16.th\n",
      "../parser_workdir/srl_parser/expanded_nPc_verbs_randAllExps_NEW/040pc_verbs_expanded_lu_roles_nouns-50pc/xlnet_embs_hypers/lugold_rolegold_nltk_nolemma_role_stopwords_N2/07/model_state_epoch_16.th\n",
      "../parser_workdir/srl_parser/expanded_nPc_verbs_randAllExps_NEW/040pc_verbs_expanded_lu_roles_nouns-50pc/xlnet_embs_hypers/lugold_rolegold_nltk_nolemma_role_stopwords_N2/07/training_state_epoch_16.th\n",
      "../parser_workdir/srl_parser/expanded_nPc_verbs_randAllExps_NEW/030pc_verbs_expanded_lu_roles_nouns-50pc/xlnet_embs_hypers/lugold_rolegold_nltk_nolemma_role_stopwords_N2/05/model_state_epoch_16.th\n",
      "../parser_workdir/srl_parser/expanded_nPc_verbs_randAllExps_NEW/030pc_verbs_expanded_lu_roles_nouns-50pc/xlnet_embs_hypers/lugold_rolegold_nltk_nolemma_role_stopwords_N2/05/training_state_epoch_16.th\n",
      "../parser_workdir/srl_parser/expanded_nPc_verbs_randAllExps_NEW/030pc_verbs_expanded_lu_roles_nouns-50pc/xlnet_embs_hypers/lugold_rolegold_nltk_nolemma_role_stopwords_N2/10/model_state_epoch_16.th\n",
      "../parser_workdir/srl_parser/expanded_nPc_verbs_randAllExps_NEW/030pc_verbs_expanded_lu_roles_nouns-50pc/xlnet_embs_hypers/lugold_rolegold_nltk_nolemma_role_stopwords_N2/10/training_state_epoch_16.th\n",
      "../parser_workdir/srl_parser/expanded_nPc_verbs_randAllExps_NEW/030pc_verbs_expanded_lu_roles_nouns-50pc/xlnet_embs_hypers/lugold_rolegold_nltk_nolemma_role_stopwords_N2/06/model_state_epoch_16.th\n",
      "../parser_workdir/srl_parser/expanded_nPc_verbs_randAllExps_NEW/030pc_verbs_expanded_lu_roles_nouns-50pc/xlnet_embs_hypers/lugold_rolegold_nltk_nolemma_role_stopwords_N2/06/training_state_epoch_16.th\n",
      "../parser_workdir/srl_parser/expanded_nPc_verbs_randAllExps_NEW/030pc_verbs_expanded_lu_roles_nouns-50pc/xlnet_embs_hypers/lugold_rolegold_nltk_nolemma_role_stopwords_N2/02/model_state_epoch_16.th\n",
      "../parser_workdir/srl_parser/expanded_nPc_verbs_randAllExps_NEW/030pc_verbs_expanded_lu_roles_nouns-50pc/xlnet_embs_hypers/lugold_rolegold_nltk_nolemma_role_stopwords_N2/02/training_state_epoch_16.th\n",
      "../parser_workdir/srl_parser/expanded_nPc_verbs_randAllExps_NEW/030pc_verbs_expanded_lu_roles_nouns-50pc/xlnet_embs_hypers/lugold_rolegold_nltk_nolemma_role_stopwords_N2/03/model_state_epoch_16.th\n",
      "../parser_workdir/srl_parser/expanded_nPc_verbs_randAllExps_NEW/030pc_verbs_expanded_lu_roles_nouns-50pc/xlnet_embs_hypers/lugold_rolegold_nltk_nolemma_role_stopwords_N2/03/training_state_epoch_16.th\n",
      "../parser_workdir/srl_parser/expanded_nPc_verbs_randAllExps_NEW/030pc_verbs_expanded_lu_roles_nouns-50pc/xlnet_embs_hypers/lugold_rolegold_nltk_nolemma_role_stopwords_N2/04/model_state_epoch_16.th\n",
      "../parser_workdir/srl_parser/expanded_nPc_verbs_randAllExps_NEW/030pc_verbs_expanded_lu_roles_nouns-50pc/xlnet_embs_hypers/lugold_rolegold_nltk_nolemma_role_stopwords_N2/04/training_state_epoch_16.th\n",
      "../parser_workdir/srl_parser/expanded_nPc_verbs_randAllExps_NEW/030pc_verbs_expanded_lu_roles_nouns-50pc/xlnet_embs_hypers/lugold_rolegold_nltk_nolemma_role_stopwords_N2/09/model_state_epoch_16.th\n",
      "../parser_workdir/srl_parser/expanded_nPc_verbs_randAllExps_NEW/030pc_verbs_expanded_lu_roles_nouns-50pc/xlnet_embs_hypers/lugold_rolegold_nltk_nolemma_role_stopwords_N2/09/training_state_epoch_16.th\n",
      "../parser_workdir/srl_parser/expanded_nPc_verbs_randAllExps_NEW/030pc_verbs_expanded_lu_roles_nouns-50pc/xlnet_embs_hypers/lugold_rolegold_nltk_nolemma_role_stopwords_N2/08/model_state_epoch_16.th\n",
      "../parser_workdir/srl_parser/expanded_nPc_verbs_randAllExps_NEW/030pc_verbs_expanded_lu_roles_nouns-50pc/xlnet_embs_hypers/lugold_rolegold_nltk_nolemma_role_stopwords_N2/08/training_state_epoch_16.th\n",
      "../parser_workdir/srl_parser/expanded_nPc_verbs_randAllExps_NEW/030pc_verbs_expanded_lu_roles_nouns-50pc/xlnet_embs_hypers/lugold_rolegold_nltk_nolemma_role_stopwords_N2/01/model_state_epoch_16.th\n",
      "../parser_workdir/srl_parser/expanded_nPc_verbs_randAllExps_NEW/030pc_verbs_expanded_lu_roles_nouns-50pc/xlnet_embs_hypers/lugold_rolegold_nltk_nolemma_role_stopwords_N2/01/training_state_epoch_16.th\n",
      "../parser_workdir/srl_parser/expanded_nPc_verbs_randAllExps_NEW/030pc_verbs_expanded_lu_roles_nouns-50pc/xlnet_embs_hypers/lugold_rolegold_nltk_nolemma_role_stopwords_N2/07/model_state_epoch_16.th\n",
      "../parser_workdir/srl_parser/expanded_nPc_verbs_randAllExps_NEW/030pc_verbs_expanded_lu_roles_nouns-50pc/xlnet_embs_hypers/lugold_rolegold_nltk_nolemma_role_stopwords_N2/07/training_state_epoch_16.th\n",
      "../parser_workdir/srl_parser/expanded_nPc_verbs_randAllExps_NEW/030pc_verbs_expanded_lu_roles_nouns-50pc/bert/lugold_rolegold_nltk_nolemma_role_stopwords_N2/05/model_state_epoch_16.th\n",
      "../parser_workdir/srl_parser/expanded_nPc_verbs_randAllExps_NEW/030pc_verbs_expanded_lu_roles_nouns-50pc/bert/lugold_rolegold_nltk_nolemma_role_stopwords_N2/05/training_state_epoch_16.th\n"
     ]
    },
    {
     "name": "stdout",
     "output_type": "stream",
     "text": [
      "../parser_workdir/srl_parser/expanded_nPc_verbs_randAllExps_NEW/030pc_verbs_expanded_lu_roles_nouns-50pc/bert/lugold_rolegold_nltk_nolemma_role_stopwords_N2/10/model_state_epoch_16.th\n",
      "../parser_workdir/srl_parser/expanded_nPc_verbs_randAllExps_NEW/030pc_verbs_expanded_lu_roles_nouns-50pc/bert/lugold_rolegold_nltk_nolemma_role_stopwords_N2/10/training_state_epoch_16.th\n",
      "../parser_workdir/srl_parser/expanded_nPc_verbs_randAllExps_NEW/030pc_verbs_expanded_lu_roles_nouns-50pc/bert/lugold_rolegold_nltk_nolemma_role_stopwords_N2/06/model_state_epoch_16.th\n",
      "../parser_workdir/srl_parser/expanded_nPc_verbs_randAllExps_NEW/030pc_verbs_expanded_lu_roles_nouns-50pc/bert/lugold_rolegold_nltk_nolemma_role_stopwords_N2/06/training_state_epoch_16.th\n",
      "../parser_workdir/srl_parser/expanded_nPc_verbs_randAllExps_NEW/030pc_verbs_expanded_lu_roles_nouns-50pc/bert/lugold_rolegold_nltk_nolemma_role_stopwords_N2/02/model_state_epoch_16.th\n",
      "../parser_workdir/srl_parser/expanded_nPc_verbs_randAllExps_NEW/030pc_verbs_expanded_lu_roles_nouns-50pc/bert/lugold_rolegold_nltk_nolemma_role_stopwords_N2/02/training_state_epoch_16.th\n",
      "../parser_workdir/srl_parser/expanded_nPc_verbs_randAllExps_NEW/030pc_verbs_expanded_lu_roles_nouns-50pc/bert/lugold_rolegold_nltk_nolemma_role_stopwords_N2/03/model_state_epoch_16.th\n",
      "../parser_workdir/srl_parser/expanded_nPc_verbs_randAllExps_NEW/030pc_verbs_expanded_lu_roles_nouns-50pc/bert/lugold_rolegold_nltk_nolemma_role_stopwords_N2/03/training_state_epoch_16.th\n",
      "../parser_workdir/srl_parser/expanded_nPc_verbs_randAllExps_NEW/030pc_verbs_expanded_lu_roles_nouns-50pc/bert/lugold_rolegold_nltk_nolemma_role_stopwords_N2/04/model_state_epoch_16.th\n",
      "../parser_workdir/srl_parser/expanded_nPc_verbs_randAllExps_NEW/030pc_verbs_expanded_lu_roles_nouns-50pc/bert/lugold_rolegold_nltk_nolemma_role_stopwords_N2/04/training_state_epoch_16.th\n",
      "../parser_workdir/srl_parser/expanded_nPc_verbs_randAllExps_NEW/030pc_verbs_expanded_lu_roles_nouns-50pc/bert/lugold_rolegold_nltk_nolemma_role_stopwords_N2/09/model_state_epoch_16.th\n",
      "../parser_workdir/srl_parser/expanded_nPc_verbs_randAllExps_NEW/030pc_verbs_expanded_lu_roles_nouns-50pc/bert/lugold_rolegold_nltk_nolemma_role_stopwords_N2/09/training_state_epoch_16.th\n",
      "../parser_workdir/srl_parser/expanded_nPc_verbs_randAllExps_NEW/030pc_verbs_expanded_lu_roles_nouns-50pc/bert/lugold_rolegold_nltk_nolemma_role_stopwords_N2/08/model_state_epoch_16.th\n",
      "../parser_workdir/srl_parser/expanded_nPc_verbs_randAllExps_NEW/030pc_verbs_expanded_lu_roles_nouns-50pc/bert/lugold_rolegold_nltk_nolemma_role_stopwords_N2/08/training_state_epoch_16.th\n",
      "../parser_workdir/srl_parser/expanded_nPc_verbs_randAllExps_NEW/030pc_verbs_expanded_lu_roles_nouns-50pc/bert/lugold_rolegold_nltk_nolemma_role_stopwords_N2/01/model_state_epoch_16.th\n",
      "../parser_workdir/srl_parser/expanded_nPc_verbs_randAllExps_NEW/030pc_verbs_expanded_lu_roles_nouns-50pc/bert/lugold_rolegold_nltk_nolemma_role_stopwords_N2/01/training_state_epoch_16.th\n",
      "../parser_workdir/srl_parser/expanded_nPc_verbs_randAllExps_NEW/030pc_verbs_expanded_lu_roles_nouns-50pc/bert/lugold_rolegold_nltk_nolemma_role_stopwords_N2/07/model_state_epoch_16.th\n",
      "../parser_workdir/srl_parser/expanded_nPc_verbs_randAllExps_NEW/030pc_verbs_expanded_lu_roles_nouns-50pc/bert/lugold_rolegold_nltk_nolemma_role_stopwords_N2/07/training_state_epoch_16.th\n",
      "../parser_workdir/srl_parser/expanded_nPc_verbs_randAllExps_NEW/010pc_verbs_expanded_lu_roles_nouns-50pc/xlnet_embs_hypers/lugold_rolegold_nltk_nolemma_role_stopwords_N2/05/model_state_epoch_16.th\n",
      "../parser_workdir/srl_parser/expanded_nPc_verbs_randAllExps_NEW/010pc_verbs_expanded_lu_roles_nouns-50pc/xlnet_embs_hypers/lugold_rolegold_nltk_nolemma_role_stopwords_N2/05/training_state_epoch_16.th\n",
      "../parser_workdir/srl_parser/expanded_nPc_verbs_randAllExps_NEW/010pc_verbs_expanded_lu_roles_nouns-50pc/xlnet_embs_hypers/lugold_rolegold_nltk_nolemma_role_stopwords_N2/10/model_state_epoch_16.th\n",
      "../parser_workdir/srl_parser/expanded_nPc_verbs_randAllExps_NEW/010pc_verbs_expanded_lu_roles_nouns-50pc/xlnet_embs_hypers/lugold_rolegold_nltk_nolemma_role_stopwords_N2/10/training_state_epoch_16.th\n",
      "../parser_workdir/srl_parser/expanded_nPc_verbs_randAllExps_NEW/010pc_verbs_expanded_lu_roles_nouns-50pc/xlnet_embs_hypers/lugold_rolegold_nltk_nolemma_role_stopwords_N2/06/model_state_epoch_16.th\n",
      "../parser_workdir/srl_parser/expanded_nPc_verbs_randAllExps_NEW/010pc_verbs_expanded_lu_roles_nouns-50pc/xlnet_embs_hypers/lugold_rolegold_nltk_nolemma_role_stopwords_N2/06/training_state_epoch_16.th\n",
      "../parser_workdir/srl_parser/expanded_nPc_verbs_randAllExps_NEW/010pc_verbs_expanded_lu_roles_nouns-50pc/xlnet_embs_hypers/lugold_rolegold_nltk_nolemma_role_stopwords_N2/02/model_state_epoch_16.th\n",
      "../parser_workdir/srl_parser/expanded_nPc_verbs_randAllExps_NEW/010pc_verbs_expanded_lu_roles_nouns-50pc/xlnet_embs_hypers/lugold_rolegold_nltk_nolemma_role_stopwords_N2/02/training_state_epoch_16.th\n",
      "../parser_workdir/srl_parser/expanded_nPc_verbs_randAllExps_NEW/010pc_verbs_expanded_lu_roles_nouns-50pc/xlnet_embs_hypers/lugold_rolegold_nltk_nolemma_role_stopwords_N2/03/model_state_epoch_16.th\n",
      "../parser_workdir/srl_parser/expanded_nPc_verbs_randAllExps_NEW/010pc_verbs_expanded_lu_roles_nouns-50pc/xlnet_embs_hypers/lugold_rolegold_nltk_nolemma_role_stopwords_N2/03/training_state_epoch_16.th\n",
      "../parser_workdir/srl_parser/expanded_nPc_verbs_randAllExps_NEW/010pc_verbs_expanded_lu_roles_nouns-50pc/xlnet_embs_hypers/lugold_rolegold_nltk_nolemma_role_stopwords_N2/04/model_state_epoch_16.th\n",
      "../parser_workdir/srl_parser/expanded_nPc_verbs_randAllExps_NEW/010pc_verbs_expanded_lu_roles_nouns-50pc/xlnet_embs_hypers/lugold_rolegold_nltk_nolemma_role_stopwords_N2/04/training_state_epoch_16.th\n",
      "../parser_workdir/srl_parser/expanded_nPc_verbs_randAllExps_NEW/010pc_verbs_expanded_lu_roles_nouns-50pc/xlnet_embs_hypers/lugold_rolegold_nltk_nolemma_role_stopwords_N2/09/model_state_epoch_16.th\n",
      "../parser_workdir/srl_parser/expanded_nPc_verbs_randAllExps_NEW/010pc_verbs_expanded_lu_roles_nouns-50pc/xlnet_embs_hypers/lugold_rolegold_nltk_nolemma_role_stopwords_N2/09/training_state_epoch_16.th\n",
      "../parser_workdir/srl_parser/expanded_nPc_verbs_randAllExps_NEW/010pc_verbs_expanded_lu_roles_nouns-50pc/xlnet_embs_hypers/lugold_rolegold_nltk_nolemma_role_stopwords_N2/08/model_state_epoch_16.th\n",
      "../parser_workdir/srl_parser/expanded_nPc_verbs_randAllExps_NEW/010pc_verbs_expanded_lu_roles_nouns-50pc/xlnet_embs_hypers/lugold_rolegold_nltk_nolemma_role_stopwords_N2/08/training_state_epoch_16.th\n",
      "../parser_workdir/srl_parser/expanded_nPc_verbs_randAllExps_NEW/010pc_verbs_expanded_lu_roles_nouns-50pc/xlnet_embs_hypers/lugold_rolegold_nltk_nolemma_role_stopwords_N2/01/model_state_epoch_16.th\n",
      "../parser_workdir/srl_parser/expanded_nPc_verbs_randAllExps_NEW/010pc_verbs_expanded_lu_roles_nouns-50pc/xlnet_embs_hypers/lugold_rolegold_nltk_nolemma_role_stopwords_N2/01/training_state_epoch_16.th\n",
      "../parser_workdir/srl_parser/expanded_nPc_verbs_randAllExps_NEW/010pc_verbs_expanded_lu_roles_nouns-50pc/xlnet_embs_hypers/lugold_rolegold_nltk_nolemma_role_stopwords_N2/07/model_state_epoch_16.th\n",
      "../parser_workdir/srl_parser/expanded_nPc_verbs_randAllExps_NEW/010pc_verbs_expanded_lu_roles_nouns-50pc/xlnet_embs_hypers/lugold_rolegold_nltk_nolemma_role_stopwords_N2/07/training_state_epoch_16.th\n",
      "../parser_workdir/srl_parser/expanded_nPc_verbs_randAllExps_NEW/010pc_verbs_expanded_lu_roles_nouns-50pc/bert/lugold_rolegold_nltk_nolemma_role_stopwords_N2/05/model_state_epoch_16.th\n",
      "../parser_workdir/srl_parser/expanded_nPc_verbs_randAllExps_NEW/010pc_verbs_expanded_lu_roles_nouns-50pc/bert/lugold_rolegold_nltk_nolemma_role_stopwords_N2/05/training_state_epoch_16.th\n",
      "../parser_workdir/srl_parser/expanded_nPc_verbs_randAllExps_NEW/010pc_verbs_expanded_lu_roles_nouns-50pc/bert/lugold_rolegold_nltk_nolemma_role_stopwords_N2/10/model_state_epoch_16.th\n",
      "../parser_workdir/srl_parser/expanded_nPc_verbs_randAllExps_NEW/010pc_verbs_expanded_lu_roles_nouns-50pc/bert/lugold_rolegold_nltk_nolemma_role_stopwords_N2/10/training_state_epoch_16.th\n",
      "../parser_workdir/srl_parser/expanded_nPc_verbs_randAllExps_NEW/010pc_verbs_expanded_lu_roles_nouns-50pc/bert/lugold_rolegold_nltk_nolemma_role_stopwords_N2/06/model_state_epoch_16.th\n",
      "../parser_workdir/srl_parser/expanded_nPc_verbs_randAllExps_NEW/010pc_verbs_expanded_lu_roles_nouns-50pc/bert/lugold_rolegold_nltk_nolemma_role_stopwords_N2/06/training_state_epoch_16.th\n",
      "../parser_workdir/srl_parser/expanded_nPc_verbs_randAllExps_NEW/010pc_verbs_expanded_lu_roles_nouns-50pc/bert/lugold_rolegold_nltk_nolemma_role_stopwords_N2/02/model_state_epoch_16.th\n",
      "../parser_workdir/srl_parser/expanded_nPc_verbs_randAllExps_NEW/010pc_verbs_expanded_lu_roles_nouns-50pc/bert/lugold_rolegold_nltk_nolemma_role_stopwords_N2/02/training_state_epoch_16.th\n",
      "../parser_workdir/srl_parser/expanded_nPc_verbs_randAllExps_NEW/010pc_verbs_expanded_lu_roles_nouns-50pc/bert/lugold_rolegold_nltk_nolemma_role_stopwords_N2/03/model_state_epoch_16.th\n",
      "../parser_workdir/srl_parser/expanded_nPc_verbs_randAllExps_NEW/010pc_verbs_expanded_lu_roles_nouns-50pc/bert/lugold_rolegold_nltk_nolemma_role_stopwords_N2/03/training_state_epoch_16.th\n"
     ]
    },
    {
     "name": "stdout",
     "output_type": "stream",
     "text": [
      "../parser_workdir/srl_parser/expanded_nPc_verbs_randAllExps_NEW/010pc_verbs_expanded_lu_roles_nouns-50pc/bert/lugold_rolegold_nltk_nolemma_role_stopwords_N2/04/model_state_epoch_16.th\n",
      "../parser_workdir/srl_parser/expanded_nPc_verbs_randAllExps_NEW/010pc_verbs_expanded_lu_roles_nouns-50pc/bert/lugold_rolegold_nltk_nolemma_role_stopwords_N2/04/training_state_epoch_16.th\n",
      "../parser_workdir/srl_parser/expanded_nPc_verbs_randAllExps_NEW/010pc_verbs_expanded_lu_roles_nouns-50pc/bert/lugold_rolegold_nltk_nolemma_role_stopwords_N2/09/model_state_epoch_16.th\n",
      "../parser_workdir/srl_parser/expanded_nPc_verbs_randAllExps_NEW/010pc_verbs_expanded_lu_roles_nouns-50pc/bert/lugold_rolegold_nltk_nolemma_role_stopwords_N2/09/training_state_epoch_16.th\n",
      "../parser_workdir/srl_parser/expanded_nPc_verbs_randAllExps_NEW/010pc_verbs_expanded_lu_roles_nouns-50pc/bert/lugold_rolegold_nltk_nolemma_role_stopwords_N2/08/model_state_epoch_16.th\n",
      "../parser_workdir/srl_parser/expanded_nPc_verbs_randAllExps_NEW/010pc_verbs_expanded_lu_roles_nouns-50pc/bert/lugold_rolegold_nltk_nolemma_role_stopwords_N2/08/training_state_epoch_16.th\n",
      "../parser_workdir/srl_parser/expanded_nPc_verbs_randAllExps_NEW/010pc_verbs_expanded_lu_roles_nouns-50pc/bert/lugold_rolegold_nltk_nolemma_role_stopwords_N2/01/model_state_epoch_16.th\n",
      "../parser_workdir/srl_parser/expanded_nPc_verbs_randAllExps_NEW/010pc_verbs_expanded_lu_roles_nouns-50pc/bert/lugold_rolegold_nltk_nolemma_role_stopwords_N2/01/training_state_epoch_16.th\n",
      "../parser_workdir/srl_parser/expanded_nPc_verbs_randAllExps_NEW/010pc_verbs_expanded_lu_roles_nouns-50pc/bert/lugold_rolegold_nltk_nolemma_role_stopwords_N2/07/model_state_epoch_16.th\n",
      "../parser_workdir/srl_parser/expanded_nPc_verbs_randAllExps_NEW/010pc_verbs_expanded_lu_roles_nouns-50pc/bert/lugold_rolegold_nltk_nolemma_role_stopwords_N2/07/training_state_epoch_16.th\n",
      "../parser_workdir/srl_parser/expanded_nPc_verbs_randAllExps_NEW/020pc_verbs_expanded_lu_roles_nouns-50pc/xlnet_embs_hypers/lugold_rolegold_nltk_nolemma_role_stopwords_N2/05/model_state_epoch_16.th\n",
      "../parser_workdir/srl_parser/expanded_nPc_verbs_randAllExps_NEW/020pc_verbs_expanded_lu_roles_nouns-50pc/xlnet_embs_hypers/lugold_rolegold_nltk_nolemma_role_stopwords_N2/05/training_state_epoch_16.th\n",
      "../parser_workdir/srl_parser/expanded_nPc_verbs_randAllExps_NEW/020pc_verbs_expanded_lu_roles_nouns-50pc/xlnet_embs_hypers/lugold_rolegold_nltk_nolemma_role_stopwords_N2/10/model_state_epoch_16.th\n",
      "../parser_workdir/srl_parser/expanded_nPc_verbs_randAllExps_NEW/020pc_verbs_expanded_lu_roles_nouns-50pc/xlnet_embs_hypers/lugold_rolegold_nltk_nolemma_role_stopwords_N2/10/training_state_epoch_16.th\n",
      "../parser_workdir/srl_parser/expanded_nPc_verbs_randAllExps_NEW/020pc_verbs_expanded_lu_roles_nouns-50pc/xlnet_embs_hypers/lugold_rolegold_nltk_nolemma_role_stopwords_N2/06/model_state_epoch_16.th\n",
      "../parser_workdir/srl_parser/expanded_nPc_verbs_randAllExps_NEW/020pc_verbs_expanded_lu_roles_nouns-50pc/xlnet_embs_hypers/lugold_rolegold_nltk_nolemma_role_stopwords_N2/06/training_state_epoch_16.th\n",
      "../parser_workdir/srl_parser/expanded_nPc_verbs_randAllExps_NEW/020pc_verbs_expanded_lu_roles_nouns-50pc/xlnet_embs_hypers/lugold_rolegold_nltk_nolemma_role_stopwords_N2/02/model_state_epoch_16.th\n",
      "../parser_workdir/srl_parser/expanded_nPc_verbs_randAllExps_NEW/020pc_verbs_expanded_lu_roles_nouns-50pc/xlnet_embs_hypers/lugold_rolegold_nltk_nolemma_role_stopwords_N2/02/training_state_epoch_16.th\n",
      "../parser_workdir/srl_parser/expanded_nPc_verbs_randAllExps_NEW/020pc_verbs_expanded_lu_roles_nouns-50pc/xlnet_embs_hypers/lugold_rolegold_nltk_nolemma_role_stopwords_N2/03/model_state_epoch_16.th\n",
      "../parser_workdir/srl_parser/expanded_nPc_verbs_randAllExps_NEW/020pc_verbs_expanded_lu_roles_nouns-50pc/xlnet_embs_hypers/lugold_rolegold_nltk_nolemma_role_stopwords_N2/03/training_state_epoch_16.th\n",
      "../parser_workdir/srl_parser/expanded_nPc_verbs_randAllExps_NEW/020pc_verbs_expanded_lu_roles_nouns-50pc/xlnet_embs_hypers/lugold_rolegold_nltk_nolemma_role_stopwords_N2/04/model_state_epoch_16.th\n",
      "../parser_workdir/srl_parser/expanded_nPc_verbs_randAllExps_NEW/020pc_verbs_expanded_lu_roles_nouns-50pc/xlnet_embs_hypers/lugold_rolegold_nltk_nolemma_role_stopwords_N2/04/training_state_epoch_16.th\n",
      "../parser_workdir/srl_parser/expanded_nPc_verbs_randAllExps_NEW/020pc_verbs_expanded_lu_roles_nouns-50pc/xlnet_embs_hypers/lugold_rolegold_nltk_nolemma_role_stopwords_N2/09/model_state_epoch_16.th\n",
      "../parser_workdir/srl_parser/expanded_nPc_verbs_randAllExps_NEW/020pc_verbs_expanded_lu_roles_nouns-50pc/xlnet_embs_hypers/lugold_rolegold_nltk_nolemma_role_stopwords_N2/09/training_state_epoch_16.th\n",
      "../parser_workdir/srl_parser/expanded_nPc_verbs_randAllExps_NEW/020pc_verbs_expanded_lu_roles_nouns-50pc/xlnet_embs_hypers/lugold_rolegold_nltk_nolemma_role_stopwords_N2/08/model_state_epoch_16.th\n",
      "../parser_workdir/srl_parser/expanded_nPc_verbs_randAllExps_NEW/020pc_verbs_expanded_lu_roles_nouns-50pc/xlnet_embs_hypers/lugold_rolegold_nltk_nolemma_role_stopwords_N2/08/training_state_epoch_16.th\n",
      "../parser_workdir/srl_parser/expanded_nPc_verbs_randAllExps_NEW/020pc_verbs_expanded_lu_roles_nouns-50pc/xlnet_embs_hypers/lugold_rolegold_nltk_nolemma_role_stopwords_N2/01/model_state_epoch_16.th\n",
      "../parser_workdir/srl_parser/expanded_nPc_verbs_randAllExps_NEW/020pc_verbs_expanded_lu_roles_nouns-50pc/xlnet_embs_hypers/lugold_rolegold_nltk_nolemma_role_stopwords_N2/01/training_state_epoch_16.th\n",
      "../parser_workdir/srl_parser/expanded_nPc_verbs_randAllExps_NEW/020pc_verbs_expanded_lu_roles_nouns-50pc/xlnet_embs_hypers/lugold_rolegold_nltk_nolemma_role_stopwords_N2/07/model_state_epoch_16.th\n",
      "../parser_workdir/srl_parser/expanded_nPc_verbs_randAllExps_NEW/020pc_verbs_expanded_lu_roles_nouns-50pc/xlnet_embs_hypers/lugold_rolegold_nltk_nolemma_role_stopwords_N2/07/training_state_epoch_16.th\n"
     ]
    }
   ],
   "source": [
    "import pandas as pd\n",
    "import shutil\n",
    "path = \"../parser_workdir/data/open_sesame_v1_data/fn1.7\"\n",
    "path = \"../parser_workdir/step_logs\"\n",
    "\n",
    "path2 = '../parser_workdir/srl_parser'\n",
    "# path2 = '../parser_workdir/srl_parser_goldpredicate'\n",
    "\n",
    "# input_dir = 'nExPerSent_randAllExps'\n",
    "# input_dir = 'expanded_nExPerSent_randAllExps'\n",
    "input_dir = 'nPc_verbs_randAllExps_NEW'\n",
    "input_dir = 'expanded_nPc_verbs_randAllExps_NEW'\n",
    "\n",
    "n = 0\n",
    "for f1 in glob(f'{path2}/{input_dir}/*/*/*/*/*'):\n",
    "#     print(f1)\n",
    "    if f1.endswith(\"state_epoch_16.th\"):\n",
    "        print(f1)\n",
    "        n = n+1\n",
    "        os.remove(f1)\n",
    "        \n",
    "    \n",
    "    \n",
    "#         shutil.rmtree(f2)\n",
    "#         shutil.move(f2, f3)\n",
    "#     os.rename(f1,f2)\n"
   ]
  },
  {
   "cell_type": "code",
   "execution_count": 17,
   "id": "convertible-measurement",
   "metadata": {},
   "outputs": [
    {
     "data": {
      "text/plain": [
       "120"
      ]
     },
     "execution_count": 17,
     "metadata": {},
     "output_type": "execute_result"
    }
   ],
   "source": [
    "n"
   ]
  },
  {
   "cell_type": "markdown",
   "id": "productive-information",
   "metadata": {},
   "source": [
    "## Train Test open-sesame models"
   ]
  },
  {
   "cell_type": "code",
   "execution_count": 11,
   "id": "powered-baghdad",
   "metadata": {},
   "outputs": [
    {
     "name": "stdout",
     "output_type": "stream",
     "text": [
      "5\n"
     ]
    },
    {
     "data": {
      "text/plain": [
       "'nPc_verbs_randAllExps_multi'"
      ]
     },
     "execution_count": 11,
     "metadata": {},
     "output_type": "execute_result"
    }
   ],
   "source": [
    "seed_exps = [\n",
    "    '01ExPerSent_rand01',\n",
    "    '02ExPerSent_rand01',\n",
    "    '03ExPerSent_rand01',\n",
    "    '04ExPerSent_rand01',\n",
    "    '05ExPerSent_rand01',\n",
    "    '06ExPerSent_rand01',\n",
    "    '07ExPerSent_rand01',\n",
    "    '08ExPerSent_rand01',\n",
    "    '09ExPerSent_rand01',\n",
    "    '10ExPerSent_rand01'\n",
    "]\n",
    "exps_dir='nExPerSent_randAllExps'\n",
    "# ---------------------------------------------------\n",
    "exps = [\n",
    "    '01ExPerFrame_rand01',\n",
    "#     '02ExPerFrame_rand01',\n",
    "#     '03ExPerFrame_rand01',\n",
    "#     '04ExPerFrame_rand01',\n",
    "#     '05ExPerFrame_rand01',\n",
    "#     '06ExPerFrame_rand01',\n",
    "#     '07ExPerFrame_rand01',\n",
    "#     '08ExPerFrame_rand01',\n",
    "#     '09ExPerFrame_rand01',\n",
    "#     '10ExPerFrame_rand01'\n",
    "]\n",
    "# exps_dir = \"nExPerFrame_randAllExps\"\n",
    "# # ---------------------------------------------------\n",
    "exps = [\n",
    "#     '010pc_verbs',\n",
    "    '020pc_verbs',\n",
    "    '030pc_verbs',\n",
    "    '040pc_verbs',\n",
    "    '050pc_verbs',\n",
    "#     '060pc_verbs',\n",
    "#     '070pc_verbs',\n",
    "#     '080pc_verbs',\n",
    "#     '090pc_verbs',\n",
    "    '100pc_verbs'\n",
    "]\n",
    "exps_dir = \"nPc_verbs_randAllExps\"\n",
    "# ---------------------------------------------------\n",
    "print(len(exps))\n",
    "exps\n",
    "# ------------------------------------\n",
    "M = 1\n",
    "\n",
    "start, end = 1, 11\n",
    "E = [i for i in range(start, end)]\n",
    "\n",
    "if E == [0]: fixseed = True\n",
    "else: fixseed = False\n",
    "    \n",
    "json_file = f'{exps_dir}'\n",
    "\n",
    "if not fixseed:\n",
    "    json_file = f'{json_file}_multirun'\n",
    "    \n",
    "json_file    "
   ]
  },
  {
   "cell_type": "markdown",
   "id": "checked-collection",
   "metadata": {},
   "source": [
    "### expansions"
   ]
  },
  {
   "cell_type": "code",
   "execution_count": 23,
   "id": "surprising-convert",
   "metadata": {},
   "outputs": [
    {
     "name": "stdout",
     "output_type": "stream",
     "text": [
      "6\n",
      "6\n"
     ]
    },
    {
     "data": {
      "text/plain": [
       "'expanded_nPc_verbs_randAllExps_lugold_rolegold_nolemma_N2_multi'"
      ]
     },
     "execution_count": 23,
     "metadata": {},
     "output_type": "execute_result"
    }
   ],
   "source": [
    "# exps_dir = \"expanded_nExPerSent_randAllExps\"\n",
    "# expanded_exps = [\n",
    "# '01ExPerSent_rand01_expanded_lu',\n",
    "#  '01ExPerSent_rand01_expanded_roles',\n",
    "#  '01ExPerSent_rand01_expanded_lu_roles_nouns-10pc-ooa',\n",
    "#  '01ExPerSent_rand01_expanded_lu_roles_nouns-30pc-ooa',\n",
    "#  '01ExPerSent_rand01_expanded_lu_roles_nouns-50pc-ooa',\n",
    "#  '01ExPerSent_rand01_expanded_lu_roles_nouns-10pc',\n",
    "#  '01ExPerSent_rand01_expanded_lu_roles_nouns-30pc',\n",
    "#  '01ExPerSent_rand01_expanded_lu_roles_nouns-50pc',\n",
    "#  '01ExPerSent_rand01_expanded_nouns-10pc',\n",
    "#  '01ExPerSent_rand01_expanded_nouns-30pc',\n",
    "#  '01ExPerSent_rand01_expanded_nouns-50pc',\n",
    "# ]\n",
    "\n",
    "exps_dir = \"expanded_nExPerFrame_randAllExps\"\n",
    "expanded_exps = [\n",
    "'01ExPerFrame_rand01_expanded_lu',\n",
    " '01ExPerFrame_rand01_expanded_roles',\n",
    "#  '01ExPerFrame_rand01_expanded_lu_roles_nouns-10pc-ooa',\n",
    "#  '01ExPerFrame_rand01_expanded_lu_roles_nouns-30pc-ooa',\n",
    "#  '01ExPerFrame_rand01_expanded_lu_roles_nouns-50pc-ooa',\n",
    " '01ExPerFrame_rand01_expanded_lu_roles_nouns-10pc',\n",
    " '01ExPerFrame_rand01_expanded_lu_roles_nouns-30pc',\n",
    " '01ExPerFrame_rand01_expanded_lu_roles_nouns-50pc',\n",
    " '01ExPerFrame_rand01_expanded_nouns-10pc',\n",
    " '01ExPerFrame_rand01_expanded_nouns-30pc',\n",
    " '01ExPerFrame_rand01_expanded_nouns-50pc',\n",
    "]\n",
    "\n",
    "# exps_dir = \"expanded_nPc_verbs_randAllExps\"\n",
    "# expanded_exps = [\n",
    "# '010pc_verbs_expanded_lu',\n",
    "#  '010pc_verbs_expanded_roles',\n",
    "#  '010pc_verbs_expanded_lu_roles_nouns-10pc-ooa',\n",
    "#  '010pc_verbs_expanded_lu_roles_nouns-30pc-ooa',\n",
    "#  '010pc_verbs_expanded_lu_roles_nouns-50pc-ooa',\n",
    "#  '010pc_verbs_expanded_lu_roles_nouns-10pc',\n",
    "#  '010pc_verbs_expanded_lu_roles_nouns-30pc',\n",
    "#  '010pc_verbs_expanded_lu_roles_nouns-50pc',\n",
    "#  '010pc_verbs_expanded_nouns-10pc',\n",
    "#  '010pc_verbs_expanded_nouns-30pc',\n",
    "#  '010pc_verbs_expanded_nouns-50pc',\n",
    "# ]\n",
    "\n",
    "\n",
    "# exps_dir = \"expanded_nExPerLU_randAllExps\"\n",
    "# expanded_exps = [\n",
    "# '01ExPerLU_rand01_expanded_lu',\n",
    "#  '01ExPerLU_rand01_expanded_roles',\n",
    "# #  '01ExPerLU_rand01_expanded_lu_roles_nouns-10pc-ooa',\n",
    "# #  '01ExPerLU_rand01_expanded_lu_roles_nouns-30pc-ooa',\n",
    "# #  '01ExPerLU_rand01_expanded_lu_roles_nouns-50pc-ooa',\n",
    "#  '01ExPerLU_rand01_expanded_lu_roles_nouns-10pc',\n",
    "#  '01ExPerLU_rand01_expanded_lu_roles_nouns-30pc',\n",
    "#  '01ExPerLU_rand01_expanded_lu_roles_nouns-50pc',\n",
    "#  '01ExPerLU_rand01_expanded_nouns-10pc',\n",
    "#  '01ExPerLU_rand01_expanded_nouns-30pc',\n",
    "#  '01ExPerLU_rand01_expanded_nouns-50pc',\n",
    "# ]\n",
    "\n",
    "\n",
    "exps_dir = \"expanded_nPc_verbs_randAllExps\"\n",
    "exps = [\n",
    "# 'expanded_roles',\n",
    "# 'expanded_nouns-30pc',\n",
    "# 'expanded_lu',\n",
    "# 'expanded_lu_roles_nouns-10pc',\n",
    "#     'expanded_nouns-10pc',\n",
    "    'expanded_nouns-30pc',\n",
    "\n",
    "\n",
    "]\n",
    "N = [10, 20, 30, 40, 50, 100]\n",
    "expanded_exps = [f'{i:03d}pc_verbs_{exp}' for exp in exps for i in N]\n",
    "print(len(expanded_exps))\n",
    "# -------------------------------------------------------\n",
    "exps =  []\n",
    "\n",
    "pipeline = 'lugold_rolegold_nolemma_N2'\n",
    "\n",
    "preds_model = 'xlnet_embs_hypers'\n",
    "exps1 = [f'{exp}/{preds_model}/{pipeline}' for exp in expanded_exps]\n",
    "exps.extend(exps1)\n",
    "\n",
    "# preds_model= 'bert'\n",
    "# exps2 = [f'{exp}/{preds_model}/{pipeline}' for exp in expanded_exps]\n",
    "# exps.extend(exps2)\n",
    "\n",
    "print(len(exps))\n",
    "exps\n",
    "# # ------------------------------------\n",
    "M = 1\n",
    "\n",
    "start, end = 1, 11\n",
    "E = [i for i in range(start, end)]\n",
    "\n",
    "if E == [0]: fixseed = True\n",
    "else: fixseed = False\n",
    "    \n",
    "json_file = f'{exps_dir}_{pipeline}'\n",
    "\n",
    "if not fixseed:\n",
    "    json_file = f'{json_file}_multirun'\n",
    "    \n",
    "json_file    "
   ]
  },
  {
   "cell_type": "code",
   "execution_count": 20,
   "id": "eligible-resolution",
   "metadata": {},
   "outputs": [],
   "source": [
    "configs_output = 'configurations/configs_traintest'\n",
    "data_dir = 'data/open_sesame_v1_data/fn1.7'\n",
    "\n",
    "output_dir = '~/generative-ie/parser_workdir/step_logs'\n",
    "# output_dir = '~/generative-ie/parser_workdir/step_logs_patience5'\n",
    "\n"
   ]
  },
  {
   "cell_type": "markdown",
   "id": "declared-thriller",
   "metadata": {},
   "source": [
    "## Train/Test"
   ]
  },
  {
   "cell_type": "code",
   "execution_count": 21,
   "id": "killing-auckland",
   "metadata": {},
   "outputs": [
    {
     "data": {
      "text/plain": [
       "['010pc_verbs',\n",
       " '020pc_verbs',\n",
       " '030pc_verbs',\n",
       " '040pc_verbs',\n",
       " '050pc_verbs',\n",
       " '100pc_verbs']"
      ]
     },
     "execution_count": 21,
     "metadata": {},
     "output_type": "execute_result"
    }
   ],
   "source": [
    "example_stats=\"\"\"original\t19391\n",
    "verbs\t5739\n",
    "01ExPerSent_rand01\t2746\n",
    "02ExPerSent_rand01\t4357\n",
    "03ExPerSent_rand01\t5133\n",
    "04ExPerSent_rand01\t5472\n",
    "05ExPerSent_rand01\t5613\n",
    "06ExPerSent_rand01\t5678\n",
    "07ExPerSent_rand01\t5711\n",
    "08ExPerSent_rand01\t5728\n",
    "09ExPerSent_rand01\t5736\n",
    "10ExPerSent_rand01\t5739\n",
    "01ExPerFrame_rand01\t428\n",
    "02ExPerFrame_rand01\t766\n",
    "03ExPerFrame_rand01\t1055\n",
    "04ExPerFrame_rand01\t1303\n",
    "05ExPerFrame_rand01\t1532\n",
    "06ExPerFrame_rand01\t1737\n",
    "07ExPerFrame_rand01\t1925\n",
    "08ExPerFrame_rand01\t2095\n",
    "09ExPerFrame_rand01\t2253\n",
    "10ExPerFrame_rand01\t2402\n",
    "010pc_verbs\t574\n",
    "020pc_verbs\t1148\n",
    "030pc_verbs\t1722\n",
    "040pc_verbs\t2296\n",
    "050pc_verbs\t2870\n",
    "060pc_verbs\t3443\n",
    "070pc_verbs\t4017\n",
    "080pc_verbs\t4591\n",
    "090pc_verbs\t5165\n",
    "100pc_verbs\t5739\n",
    "01ExPerLU_rand01\t923\n",
    "02ExPerLU_rand01\t1456\n",
    "03ExPerLU_rand01\t1856\n",
    "04ExPerLU_rand01\t2191\n",
    "05ExPerLU_rand01\t2476\n",
    "06ExPerLU_rand01\t2728\n",
    "07ExPerLU_rand01\t2947\n",
    "08ExPerLU_rand01\t3128\n",
    "09ExPerLU_rand01\t3295\n",
    "10ExPerLU_rand01\t3448\"\"\".split(\"\\n\")\n",
    "\n",
    "examples_per_dataset = {line.split(\"\\t\")[0]:int(line.split(\"\\t\")[1]) for line in example_stats}\n",
    "# print(len(examples_per_dataset))\n",
    "# examples_per_dataset\n",
    "EPOCHS = {\n",
    "'TARGETID': 100,\n",
    "'FRAMEID': 100,\n",
    "'ARGID': 10,\n",
    "}\n",
    "NUM_STEPS = {}\n",
    "\n",
    "for ds, size in examples_per_dataset.items():\n",
    "    NUM_STEPS[ds] = {'TARGETID': EPOCHS['TARGETID']*size,\n",
    "                    'FRAMEID': EPOCHS['FRAMEID']*size,\n",
    "                    'ARGID': EPOCHS['ARGID']*size\n",
    "                    }\n",
    "\n",
    "# NUM_STEPS\n",
    "\n",
    "def seed_expName(name):\n",
    "    exp = name.split(\"/\")[0]\n",
    "    exp = exp.split(\"_expanded\")[0]\n",
    "    return exp\n",
    "\n",
    "[seed_expName(exp) for exp in exps]"
   ]
  },
  {
   "cell_type": "markdown",
   "id": "adjusted-trout",
   "metadata": {},
   "source": [
    "## base"
   ]
  },
  {
   "cell_type": "code",
   "execution_count": 16,
   "id": "mature-carnival",
   "metadata": {},
   "outputs": [
    {
     "name": "stdout",
     "output_type": "stream",
     "text": [
      "10\n"
     ]
    },
    {
     "data": {
      "text/plain": [
       "{'name': '01ExPerSent_rand01-frameid-01',\n",
       " 'args': {'model_id': 'frameid',\n",
       "  'model_name': 'frameid_steps-274600_run-01',\n",
       "  'exp_name': 'nExPerSent_randAllExps/01ExPerSent_rand01',\n",
       "  'data_dir': 'data/open_sesame_v1_data/fn1.7',\n",
       "  'output_dir': '~/generative-ie/parser_workdir/step_logs',\n",
       "  'fixseed': False,\n",
       "  'num_steps': 274600}}"
      ]
     },
     "execution_count": 16,
     "metadata": {},
     "output_type": "execute_result"
    }
   ],
   "source": [
    "# exps_dir=[]\n",
    "exps = [\n",
    "   ('nExPerSent_randAllExps', '01ExPerSent_rand01'),\n",
    "#    ('nExPerFrame_randAllExps', '01ExPerFrame_rand01'),\n",
    "#        ('nExPerLU_randAllExps', '01ExPerLU_rand01'),\n",
    "\n",
    "#     ('nPc_verbs_randAllExps', '010pc_verbs'),\n",
    "#    '','verbs',\n",
    "#    '', original'\n",
    "]\n",
    "M = 1\n",
    "# output_dir = f'~/generative-ie/parser_workdir/step_logs{M}'\n",
    "# json_file = f'lu_base_experiments_multirun_{M}'\n",
    "# json_file = f'frame_base_experiments_multirun_{M}'\n",
    "json_file = f'sent_base_experiments_multirun_{M}'\n",
    "\n",
    "fixseed=False\n",
    "start, end = 1, 11\n",
    "E = [i for i in range(start, end)]\n",
    "\n",
    "exp_configs= []\n",
    "\n",
    "for i in E:\n",
    "    for exps_dir, e, in exps:\n",
    "        ds = seed_expName(e)\n",
    "#         print(ds)\n",
    "#         for model in ['targetid', 'frameid', 'argid']:\n",
    "\n",
    "        for model in ['frameid']:#, 'frameid']:\n",
    "            exp_configs.append({\"name\":f'{e}-{model}-{i:02d}',\n",
    "                              \"args\":{\n",
    "                                    \"model_id\":model,\n",
    "                                    \"model_name\":f'{model}_steps-{NUM_STEPS[ds][model.upper()]*M}_run-{i:02d}', \n",
    "                                    \"exp_name\":f'{os.path.join(exps_dir, e)}',\n",
    "                                    \"data_dir\":f'{data_dir}',\n",
    "                                    \"output_dir\":f'{output_dir}',\n",
    "                                    \"fixseed\":fixseed,\n",
    "                                     \"num_steps\":NUM_STEPS[ds][model.upper()]*M\n",
    "                                      }\n",
    "                             })\n",
    "print(len(exp_configs))\n",
    "exp_names =[exp['name'] for exp in exp_configs]\n",
    "# print(','.join(exp_names))\n",
    "\n",
    "\n",
    "with open(f'{configs_output}/{json_file}.json', 'w') as fp:\n",
    "        json.dump(exp_configs, fp, indent=4)\n",
    " \n",
    "exp_configs[0]      "
   ]
  },
  {
   "cell_type": "markdown",
   "id": "valid-breakdown",
   "metadata": {},
   "source": [
    "### targetid"
   ]
  },
  {
   "cell_type": "code",
   "execution_count": 24,
   "id": "historic-scope",
   "metadata": {
    "scrolled": true
   },
   "outputs": [
    {
     "name": "stdout",
     "output_type": "stream",
     "text": [
      "60\n"
     ]
    },
    {
     "data": {
      "text/plain": [
       "{'name': '010pc_verbs_expanded_nouns-30pc/xlnet_embs_hypers/lugold_rolegold_nolemma_N2-targetid-01',\n",
       " 'args': {'model_id': 'targetid',\n",
       "  'model_name': 'targetid_steps-57400_run-01',\n",
       "  'exp_name': 'expanded_nPc_verbs_randAllExps/010pc_verbs_expanded_nouns-30pc/xlnet_embs_hypers/lugold_rolegold_nolemma_N2',\n",
       "  'data_dir': 'data/open_sesame_v1_data/fn1.7',\n",
       "  'output_dir': '~/generative-ie/parser_workdir/step_logs',\n",
       "  'fixseed': False,\n",
       "  'num_steps': 57400}}"
      ]
     },
     "execution_count": 24,
     "metadata": {},
     "output_type": "execute_result"
    }
   ],
   "source": [
    "model = 'targetid'\n",
    "\n",
    "exp_configs= []\n",
    "\n",
    "for i in E:\n",
    "    for e in exps: \n",
    "        \n",
    "        ds = seed_expName(e)\n",
    "        \n",
    "        exp_configs.append({\"name\":f'{e}-{model}-{i:02d}',\n",
    "                          \"args\":{\n",
    "                                \"model_id\":model,\n",
    "                                \"model_name\":f'{model}_steps-{NUM_STEPS[ds][\"TARGETID\"]*M}_run-{i:02d}', \n",
    "                                \"exp_name\":f'{os.path.join(exps_dir, e)}',\n",
    "                                \"data_dir\":f'{data_dir}',\n",
    "                                \"output_dir\":f'{output_dir}',\n",
    "                                \"fixseed\":fixseed,\n",
    "                                 \"num_steps\":NUM_STEPS[ds]['TARGETID']*M,\n",
    "                                  }\n",
    "                         }),\n",
    "        \n",
    "print(len(exp_configs))\n",
    "exp_names =[exp['name'] for exp in exp_configs]\n",
    "# print(','.join(exp_names))\n",
    "\n",
    "\n",
    "with open(f'{configs_output}/{model}_{json_file}2.json', 'w') as fp:\n",
    "        json.dump(exp_configs, fp, indent=4)\n",
    "\n",
    "exp_configs[0]        "
   ]
  },
  {
   "cell_type": "markdown",
   "id": "narrative-customs",
   "metadata": {},
   "source": [
    "### frameid"
   ]
  },
  {
   "cell_type": "code",
   "execution_count": 15,
   "id": "chubby-bikini",
   "metadata": {},
   "outputs": [
    {
     "name": "stdout",
     "output_type": "stream",
     "text": [
      "50\n"
     ]
    },
    {
     "data": {
      "text/plain": [
       "{'name': '020pc_verbs-frameid-01',\n",
       " 'args': {'model_id': 'frameid',\n",
       "  'model_name': 'frameid_steps-114800_run-01',\n",
       "  'exp_name': 'nPc_verbs_randAllExps/020pc_verbs',\n",
       "  'data_dir': 'data/open_sesame_v1_data/fn1.7',\n",
       "  'output_dir': '~/generative-ie/parser_workdir/step_logs',\n",
       "  'fixseed': False,\n",
       "  'num_steps': 114800}}"
      ]
     },
     "execution_count": 15,
     "metadata": {},
     "output_type": "execute_result"
    }
   ],
   "source": [
    "model = 'frameid'\n",
    "\n",
    "exp_configs= []\n",
    "\n",
    "for i in E:\n",
    "    for e in exps:\n",
    "        \n",
    "        ds = seed_expName(e)\n",
    "        \n",
    "        exp_configs.append({\"name\":f'{e}-{model}-{i:02d}',\n",
    "                  \"args\":{\n",
    "                        \"model_id\":model,\n",
    "                        \"model_name\":f'{model}_steps-{NUM_STEPS[ds][\"FRAMEID\"]*M}_run-{i:02d}', \n",
    "                        \"exp_name\":f'{os.path.join(exps_dir, e)}',\n",
    "                        \"data_dir\":f'{data_dir}',\n",
    "                        \"output_dir\":f'{output_dir}',\n",
    "                         \"fixseed\":fixseed,\n",
    "                         \"num_steps\":NUM_STEPS[ds]['FRAMEID']*M\n",
    "                          }\n",
    "                 })\n",
    "print(len(exp_configs))\n",
    "exp_names =[exp['name'] for exp in exp_configs]\n",
    "# print(','.join(exp_names))\n",
    "\n",
    "\n",
    "with open(f'{configs_output}/{model}_{json_file}.json', 'w') as fp:\n",
    "        json.dump(exp_configs, fp, indent=4)\n",
    "    \n",
    "    \n",
    "exp_configs[0]        "
   ]
  },
  {
   "cell_type": "markdown",
   "id": "neither-malawi",
   "metadata": {},
   "source": [
    "### argid"
   ]
  },
  {
   "cell_type": "code",
   "execution_count": null,
   "id": "federal-jurisdiction",
   "metadata": {},
   "outputs": [],
   "source": [
    "model = 'argid'\n",
    "\n",
    "exp_configs= []\n",
    "\n",
    "for i in E:\n",
    "    for e in exps:\n",
    "        \n",
    "        ds = seed_expName(e)\n",
    "        \n",
    "        exp_configs.append({\n",
    "                        \"name\":f'{e}-{model}-{i:02d}',\n",
    "                         \"args\":{\n",
    "                                \"model_id\":model,\n",
    "                                \"model_name\":f'{model}_steps-{NUM_STEPS[ds][\"ARGID\"]*M}_run-{i:02d}', \n",
    "                                \"exp_name\":f'{os.path.join(exps_dir, e)}',\n",
    "                                \"data_dir\":f'{data_dir}',\n",
    "                                \"output_dir\":f'{output_dir}',\n",
    "                                \"fixseed\":fixseed,\n",
    "                                 \"num_steps\":NUM_STEPS[ds]['ARGID']*M\n",
    "                                }\n",
    "                     })\n",
    "        \n",
    "print(len(exp_configs))\n",
    "exp_names =[exp['name'] for exp in exp_configs]\n",
    "# print(','.join(exp_names))\n",
    "\n",
    "\n",
    "with open(f'{configs_output}/{model}_{json_file}.json', 'w') as fp:\n",
    "        json.dump(exp_configs, fp, indent=4)\n",
    " \n",
    "exp_configs[0]"
   ]
  },
  {
   "cell_type": "code",
   "execution_count": null,
   "id": "weird-research",
   "metadata": {},
   "outputs": [],
   "source": []
  },
  {
   "cell_type": "code",
   "execution_count": null,
   "id": "inclusive-mattress",
   "metadata": {},
   "outputs": [],
   "source": []
  }
 ],
 "metadata": {
  "kernelspec": {
   "display_name": "Python 3 (ipykernel)",
   "language": "python",
   "name": "python3"
  },
  "language_info": {
   "codemirror_mode": {
    "name": "ipython",
    "version": 3
   },
   "file_extension": ".py",
   "mimetype": "text/x-python",
   "name": "python",
   "nbconvert_exporter": "python",
   "pygments_lexer": "ipython3",
   "version": "3.7.9"
  }
 },
 "nbformat": 4,
 "nbformat_minor": 5
}
