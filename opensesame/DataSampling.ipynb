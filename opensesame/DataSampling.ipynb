{
 "cells": [
  {
   "cell_type": "markdown",
   "metadata": {},
   "source": [
    "# Filtering and Sampling:\n",
    "**module**: lexsub.sample \n",
    "\n",
    "* ### sample on part-of-speech based lexical units: \n",
    "```\n",
    "filter_examples(input_conll_file, output_conll_file, pos='v', syn_type = None)\n",
    "```\n",
    "* ### sample N examples per sentence: \n",
    "```\n",
    "random_sample_perSentence(input_conll_file, output_conll_file, sample_size = 1, syn_type = None)\n",
    "```\n",
    "* ### sample percentage of total examples: \n",
    "```\n",
    "random_sample_examples(input_conll_file, output_conll_file, sample_size = 1, syn_type = None):\n",
    "```\n"
   ]
  },
  {
   "cell_type": "markdown",
   "metadata": {},
   "source": [
    "## Filtering "
   ]
  },
  {
   "cell_type": "code",
   "execution_count": null,
   "metadata": {},
   "outputs": [],
   "source": [
    "from sesame.dataio import read_conll\n",
    "from sesame.conll09 import CoNLL09Example, CoNLL09Element\n",
    "from sesame.sentence import Sentence\n",
    "import sys\n",
    "import lexsub.conll_helper as conll_helper\n",
    "import lexsub.sample as sample\n",
    "\n",
    "\n",
    "from ordered_set import OrderedSet\n",
    "\n",
    "base_data_dir = 'data/open_sesame_v1_data/fn1.7'\n",
    "\n",
    "all_data = 'original2'\n",
    "verbs_data = 'verbs2'\n",
    "nouns_data = 'nouns2'\n",
    "\n",
    "dev_file = 'fn1.7.dev.syntaxnet.conll'\n",
    "test_file = 'fn1.7.test.syntaxnet.conll'\n",
    "train_file = 'fn1.7.fulltext.train.syntaxnet.conll'\n"
   ]
  },
  {
   "cell_type": "markdown",
   "metadata": {},
   "source": [
    "### Verb Filter\n",
    "-- to get all verb lexical-units"
   ]
  },
  {
   "cell_type": "code",
   "execution_count": null,
   "metadata": {},
   "outputs": [],
   "source": [
    "import importlib\n",
    "importlib.reload(sample)\n",
    "from lexsub.sample import filter_examples\n",
    "\n",
    "\n",
    "input_dir = '{}/{}'.format(base_data_dir, all_data)\n",
    "output_dir = '{}/{}'.format(base_data_dir, verbs_data)\n",
    "\n",
    "\n",
    "filter_examples(f'{input_dir}/{train_file}', f'{output_dir}/{train_file}', pos = 'v')\n",
    "filter_examples(f'{input_dir}/{dev_file}', f'{output_dir}/{dev_file}', pos = 'v')\n",
    "filter_examples(f'{input_dir}/{test_file}', f'{output_dir}/{test_file}', pos = 'v')\n"
   ]
  },
  {
   "cell_type": "markdown",
   "metadata": {},
   "source": [
    "### Noun Filter\n",
    "-- to get all noun lexical-units"
   ]
  },
  {
   "cell_type": "code",
   "execution_count": null,
   "metadata": {},
   "outputs": [],
   "source": [
    "# import importlib\n",
    "# importlib.reload(sample)\n",
    "from lexsub.sample import filter_examples\n",
    "\n",
    "\n",
    "input_dir = '{}/{}'.format(base_data_dir, all_data)\n",
    "output_dir = '{}/{}'.format(base_data_dir, nouns_data)\n",
    "\n",
    "\n",
    "filter_examples(f'{input_dir}/{train_file}', f'{output_dir}/{train_file}', pos = 'n')\n",
    "filter_examples(f'{input_dir}/{dev_file}', f'{output_dir}/{dev_file}', pos = 'n')\n",
    "filter_examples(f'{input_dir}/{test_file}', f'{output_dir}/{test_file}', pos = 'n')\n"
   ]
  },
  {
   "cell_type": "markdown",
   "metadata": {},
   "source": [
    "## Sampling"
   ]
  },
  {
   "cell_type": "markdown",
   "metadata": {},
   "source": [
    "### 1. sample N example per Sentence \n",
    "- nExPerSent_verbs_randAllExps\n",
    "- nExPerSent_nouns_randAllExps"
   ]
  },
  {
   "cell_type": "code",
   "execution_count": null,
   "metadata": {
    "scrolled": true
   },
   "outputs": [],
   "source": [
    "# import importlib\n",
    "# importlib.reload(lexsub.sample) \n",
    "from lexsub.sample import random_sample_perSentence\n",
    "\n",
    "input_dir = f'{base_data_dir}/verbs'\n",
    "\n",
    "exps_dir = 'nExPerSent_verbs_randAllExps'\n",
    "\n",
    "train_file = 'fn1.7.fulltext.train.syntaxnet.conll'\n",
    "\n",
    "# to sample randomly using different sample size\n",
    "\n",
    "exp_name = 'ExPerSent_verbs'\n",
    "for i in range(1,2):\n",
    "    output_dir = f'{base_data_dir}/{exps_dir}/{i:02d}{exp_name}_rand01'\n",
    "\n",
    "    random_sample_perSentence(f'{input_dir}/{train_file}', \n",
    "                              f'{output_dir}/{train_file}', \n",
    "                                sample_size=i,\n",
    "                                seed=i)\n",
    "\n"
   ]
  },
  {
   "cell_type": "markdown",
   "metadata": {},
   "source": [
    "### 2. sample percentage of total examples \n",
    "- nPc_verbs_randAllExps\n",
    "- nPc_nouns_randAllExps"
   ]
  },
  {
   "cell_type": "code",
   "execution_count": null,
   "metadata": {},
   "outputs": [],
   "source": [
    "from lexsub.sample import random_sample_examples\n",
    "\n",
    "\n",
    "input_dir = f'{base_data_dir}/verbs'\n",
    "train_file = 'fn1.7.fulltext.train.syntaxnet.conll'\n",
    "exps_dir = 'nPc_verbs_randAllExps'\n",
    "\n",
    "exp_name = 'pc_verbs'\n",
    "\n",
    "for i in [10,20,30,40,50,100]:\n",
    "    sample_size = i/100\n",
    "    output_dir = f'{base_data_dir}/{exps_dir}/{i:03d}{exp_name}'\n",
    "    print(sample_size, output_dir)\n",
    "    random_sample_examples(f'{input_dir}/{train_file}', \n",
    "                            f'{output_dir}/{train_file}', \n",
    "                            sample_size=sample_size,\n",
    "                            seed=i)\n"
   ]
  }
 ],
 "metadata": {
  "kernelspec": {
   "display_name": "Python 3 (ipykernel)",
   "language": "python",
   "name": "python3"
  },
  "language_info": {
   "codemirror_mode": {
    "name": "ipython",
    "version": 3
   },
   "file_extension": ".py",
   "mimetype": "text/x-python",
   "name": "python",
   "nbconvert_exporter": "python",
   "pygments_lexer": "ipython3",
   "version": "3.7.9"
  }
 },
 "nbformat": 4,
 "nbformat_minor": 4
}
