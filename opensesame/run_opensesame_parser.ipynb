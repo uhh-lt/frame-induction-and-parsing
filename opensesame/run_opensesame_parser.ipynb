{
 "cells": [
  {
   "cell_type": "markdown",
   "metadata": {},
   "source": [
    "source: https://github.com/swabhs/open-sesame\n",
    "\n",
    "### Pre-requisits:\n",
    "\n",
    "Some global configurations are defined in configurations/global_config.json including default FrameNet version **1.7**.\n",
    "\n",
    "Assuming FrameNet version 1.7\n",
    "Following files must be located under **data** directory\n",
    "* fndata1.7 \n",
    "* glove.6B.100d.txt:http://nlp.stanford.edu/data/glove.6B.100d.zip\n"
   ]
  },
  {
   "cell_type": "code",
   "execution_count": null,
   "metadata": {},
   "outputs": [],
   "source": [
    "# incase needed\n",
    "# import nltk\n",
    "# nltk.download('averaged_perceptron_tagger')"
   ]
  },
  {
   "cell_type": "markdown",
   "metadata": {},
   "source": [
    "## 1. preprocess \n",
    "to generate train,test and dev input files to train parser\n",
    "```\n",
    "python -m sesame.preprocess --exp_name $EXP_NAME --data_dir $DATA_DIR --version $VERSION\n",
    "```\n",
    "files will be saved to: ```$OUTPUT_DIR/$EXP_NAME```\n",
    "\n",
    "**default** values are as follows:\n",
    "- exp_name: none\n",
    "- data_dir : **data/open_sesame_v1_data/fn1.7**\n",
    "- version: 1.7"
   ]
  },
  {
   "cell_type": "code",
   "execution_count": null,
   "metadata": {},
   "outputs": [],
   "source": [
    "! python -m sesame.preprocess --exp_name 'original' --data_dir data/open_sesame_v1_data/fn1.7"
   ]
  },
  {
   "cell_type": "markdown",
   "metadata": {},
   "source": [
    "## 2. train\n",
    "```\n",
    "python -m sesame.$MODEL --mode train --model_name $MODEL_NAME --exp_name $EXP_NAME -- data_dir $DATA_DIR --output_dir $OUTPUT_DIR\n",
    "```\n",
    "- MODEL: targetid, frameid, argid\n",
    "- MODEL_NAME: model will be saved to ```$OUTPUT_DIR/$EXP_NAME/$MODEL_NAME```\n",
    "- EXP_NAME: a sub_dir within ```$DATA_DIR``` where data files exists, it will be also be created in ```$OUTPUT_DIR```\n",
    "\n",
    "optionl flags and default values:\n",
    "- data_dir : data/open_sesame_v1_data/fn1.7\n",
    "- output_dir : logs/fn1.7**\n",
    "- version: 1.7\n",
    "- fixseed"
   ]
  },
  {
   "cell_type": "code",
   "execution_count": null,
   "metadata": {
    "scrolled": true
   },
   "outputs": [],
   "source": [
    "! python -m sesame.targetid \\\n",
    "--mode='train' \\\n",
    "--model_name='fn1.7-trained-targetid' \\\n",
    "--data_dir='../parser_workdir/data/open_sesame_v1_data/fn1.7'\\\n",
    "--output_dir='../parser_workdir/step_logs'\\\n",
    "--exp_name='original' \\\n",
    "--num_steps=27460\\\n",
    "--fixseed"
   ]
  },
  {
   "cell_type": "markdown",
   "metadata": {},
   "source": [
    "## 3. test\n",
    "```\n",
    "python -m sesame.$MODEL --mode test --model_name $MODEL_NAME --exp_name $EXP_NAME -- data_dir $DATA_DIR --output_dir $OUTPUT_DIR\n",
    "```"
   ]
  },
  {
   "cell_type": "code",
   "execution_count": null,
   "metadata": {},
   "outputs": [],
   "source": [
    "! python -m sesame.targetid \\\n",
    "--mode='test' \\\n",
    "--model_name='fn1.7-trained-targetid' \\\n",
    "--data_dir='../parser_workdir/data/open_sesame_v1_data/fn1.7'\\\n",
    "--output_dir='../parser_workdir/step_logs'\\\n",
    "--exp_name='original'\n"
   ]
  },
  {
   "cell_type": "markdown",
   "metadata": {},
   "source": [
    "# How to run multiple experiments\n",
    "\n",
    "\n",
    "## 1. Define all your experiments in a json file as explained as follows: "
   ]
  },
  {
   "cell_type": "code",
   "execution_count": null,
   "metadata": {
    "scrolled": true
   },
   "outputs": [],
   "source": [
    "import os\n",
    "import json\n",
    "\n",
    "\n",
    "base_data_dir = \"data/open_sesame_v1_data/fn1.7\"\n",
    "base_output_dir = \"step_logs/fn1.7\"\n",
    "\n",
    "\n",
    "exps = [\n",
    "    'original',\n",
    "]\n",
    "\n",
    "models = ['targetid', 'frameid', 'argid']\n",
    "output_json_file = f'all_models_original'\n",
    "\n",
    "exp_configs= []\n",
    "\n",
    "for e in exps:\n",
    "    for model in models\n",
    "        exp_configs.append({\"name\":f'{e}-{model}',\n",
    "                             \"args\":{\n",
    "                                    \"model_id\":model,\n",
    "                                    \"model_name\":f'fn1.7-trained-{model}', \n",
    "                                    \"exp_name\":f'{e}',\n",
    "                                    \"data_dir\":f'{base_data_dir}',\n",
    "                                    \"output_dir\":f'{base_output_dir}'\n",
    "                             }\n",
    "                           })\n",
    "\n",
    "\n",
    "\n",
    "\n",
    "print(len(exp_configs))\n",
    "exp_names =[exp['name'] for exp in exp_configs]\n",
    "print(','.join(exp_names))\n",
    "\n",
    "\n",
    "with open(f'configs_parser/{output_json_file}.json', 'w') as fp:\n",
    "        json.dump(exp_configs, fp, indent=4)\n",
    "        "
   ]
  },
  {
   "cell_type": "markdown",
   "metadata": {},
   "source": [
    "## 2. run experiments via lexsub.run_parser module\n",
    "\n",
    "\n",
    "Following command will train and test the model\n",
    "\n",
    "```\n",
    "python -m lexsub.run_parser --configs_traintest/all_models_original.json --workers 3\n",
    "```\n",
    "\n",
    "optinally, you can specify:\n",
    "- --exp_names 'original-targetid'\n",
    "- --mode 'test'\n",
    "\n",
    "\n",
    "possible options for **mode**: 'train', 'refresh', 'test'"
   ]
  },
  {
   "cell_type": "code",
   "execution_count": null,
   "metadata": {},
   "outputs": [],
   "source": []
  }
 ],
 "metadata": {
  "kernelspec": {
   "display_name": "Python 3 (ipykernel)",
   "language": "python",
   "name": "python3"
  },
  "language_info": {
   "codemirror_mode": {
    "name": "ipython",
    "version": 3
   },
   "file_extension": ".py",
   "mimetype": "text/x-python",
   "name": "python",
   "nbconvert_exporter": "python",
   "pygments_lexer": "ipython3",
   "version": "3.7.9"
  }
 },
 "nbformat": 4,
 "nbformat_minor": 4
}
