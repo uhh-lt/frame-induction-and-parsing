{
 "cells": [
  {
   "cell_type": "code",
   "execution_count": null,
   "metadata": {},
   "outputs": [],
   "source": [
    "proc_funcs_roles = 'lemmatize,clean_noisy,remove_role_stopwords'"
   ]
  },
  {
   "cell_type": "markdown",
   "metadata": {},
   "source": [
    "## single token roles"
   ]
  },
  {
   "cell_type": "code",
   "execution_count": null,
   "metadata": {
    "scrolled": true
   },
   "outputs": [],
   "source": [
    "!python -m  src.run_postprocessing_predictions --n_jobs=24 \\\n",
    "--test_indexes_path=workdir/framenet/swr_gold_dataset_test_split.json\\\n",
    "--gold_path=./workdir/data/swr_gold_dataset.pkl \\\n",
    "--results_path=workdir/results/paper_roles_st\\\n",
    "--save_results_path=./workdir/results/test-paper_roles_st_pattern\\\n",
    "--proc_funcs='lemmatize,clean_noisy,remove_role_stopwords'\n",
    "--parser='pattern'\\\n",
    "--dataset_type='roles'\\\n"
   ]
  },
  {
   "cell_type": "code",
   "execution_count": null,
   "metadata": {},
   "outputs": [],
   "source": [
    "!python -m src.run_evaluate \\\n",
    "--results_path=workdir/results_embs_mymodifiedrun/test-paper_roles_st_pattern"
   ]
  },
  {
   "cell_type": "markdown",
   "metadata": {},
   "source": [
    "# Combine/Merge"
   ]
  },
  {
   "cell_type": "markdown",
   "metadata": {},
   "source": [
    "## Merging"
   ]
  },
  {
   "cell_type": "code",
   "execution_count": null,
   "metadata": {},
   "outputs": [],
   "source": [
    "!python -m src.run_merge_predictions --n_jobs=16 \\\n",
    "--gold_path=workdir/data/swr_gold_dataset.pkl \\\n",
    "--test_indexes_path=data_files/swr_gold_dataset_test_split.json\\\n",
    "--results_path1=workdir/results/test-paper_roles_st_pattern/ \\\n",
    "--results_path2=workdir/results/test-paper_roles_st_pattern/ \\\n",
    "--save_results_path=workdir/results/test-paper_roles_st_pattern_merged \\\n",
    "--exp_names1='blc-ntok1-nunits1-nomask-k200-TandT' \\\n",
    "--exp_names2='glove_840B_nolem' \\\n",
    "--proc_funcs=None \\\n",
    "--merge_func='union'\n",
    "\n",
    "\n",
    "\n",
    "!python -m src.run_merge_predictions --n_jobs=24 \\\n",
    "--gold_path=workdir/data/swr_gold_dataset.pkl \\\n",
    "--test_indexes_path=data_files/swr_gold_dataset_test_split.json\\\n",
    "--results_path1=workdir/results/test-paper_roles_st_pattern/ \\\n",
    "--exp_names1='blc-ntok1-nunits1-nomask-k200' \\\n",
    "--results_path2=workdir/results/test-paper_roles_st_pattern/ \\\n",
    "--exp_names2=\"melamud_baladd\"\\\n",
    "--save_results_path=workdir/results/test-paper_roles_st_merged \\\n",
    "--proc_funcs=None \\\n",
    "--merge_func='union' \\\n",
    "--results_path3=workdir/results/test-paper_roles_st_pattern/ \\\n",
    "--exp_names3='glove_840B_nolem'\n"
   ]
  },
  {
   "cell_type": "code",
   "execution_count": null,
   "metadata": {},
   "outputs": [],
   "source": [
    "!python -m src.run_evaluate \\\n",
    "--results_path=workdir/results/test-paper_roles_st_pattern_merged"
   ]
  }
 ],
 "metadata": {
  "kernelspec": {
   "display_name": "Python 3 (ipykernel)",
   "language": "python",
   "name": "python3"
  },
  "language_info": {
   "codemirror_mode": {
    "name": "ipython",
    "version": 3
   },
   "file_extension": ".py",
   "mimetype": "text/x-python",
   "name": "python",
   "nbconvert_exporter": "python",
   "pygments_lexer": "ipython3",
   "version": "3.7.9"
  }
 },
 "nbformat": 4,
 "nbformat_minor": 4
}
