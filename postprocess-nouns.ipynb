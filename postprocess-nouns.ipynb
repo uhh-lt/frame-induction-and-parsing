{
 "cells": [
  {
   "cell_type": "code",
   "execution_count": null,
   "metadata": {},
   "outputs": [],
   "source": [
    "proc_funcs_nouns = 'lemmatize,clean_noisy,remove_noun_stopwords,noun_filter'\n"
   ]
  },
  {
   "cell_type": "markdown",
   "metadata": {},
   "source": [
    "## Postprocess"
   ]
  },
  {
   "cell_type": "code",
   "execution_count": null,
   "metadata": {
    "scrolled": true
   },
   "outputs": [],
   "source": [
    "!python -m  src.run_postprocessing_predictions --n_jobs=24 \\\n",
    "--gold_path=./workdir/data/swn_gold_dataset.pkl \\\n",
    "--test_indexes_path=workdir/framenet_data/swn_gold_dataset_test_split.json \\\n",
    "--results_path=./workdir/results/paper_nouns_st \\\n",
    "--proc_funcs='lemmatize,clean_noisy,remove_noun_stopwords,filter_nouns'\\\n",
    "--save_results_path=./workdir/results/test-paper_nouns_st_pattern_nounfilter\\\n",
    "--parser='pattern'\\\n",
    "--dataset_type='nouns'\n"
   ]
  },
  {
   "cell_type": "code",
   "execution_count": null,
   "metadata": {},
   "outputs": [],
   "source": [
    "!python -m src.run_evaluate \\\n",
    "--results_path=workdir/results/test-paper_nouns_pattern_nounfilter"
   ]
  },
  {
   "cell_type": "markdown",
   "metadata": {},
   "source": [
    "# Combine/Merge"
   ]
  },
  {
   "cell_type": "markdown",
   "metadata": {},
   "source": [
    "## Merging\n"
   ]
  },
  {
   "cell_type": "code",
   "execution_count": null,
   "metadata": {
    "scrolled": true
   },
   "outputs": [],
   "source": [
    "!python -m src.run_merge_predictions --n_jobs=16 \\\n",
    "--gold_path=workdir/data/swn_gold_dataset.pkl \\\n",
    "--test_indexes_path=workdir/framenet/swn_gold_dataset_test_split.json \\\n",
    "--results_path1=workdir/results/test-paper_nouns_st_pattern_nounfilter/ \\\n",
    "--results_path2=workdir/results/test-paper_nouns_st_pattern_nounfilter/ \\\n",
    "--save_results_path=workdir/results/test-paper_nouns_st_pattern_nounfilter_merged \\\n",
    "--exp_names1='glove_840B_nolem' \\\n",
    "--exp_names2='blc-ntok1-nunits1-nomask-k200' \\\n",
    "--proc_funcs=None \\\n",
    "--merge_func='union'\n"
   ]
  },
  {
   "cell_type": "code",
   "execution_count": null,
   "metadata": {},
   "outputs": [],
   "source": [
    "!python -m src.run_merge_predictions --n_jobs=16 \\\n",
    "--gold_path=workdir/data/swn_gold_dataset.pkl \\\n",
    "--test_indexes_path=workdir/framenet/swn_gold_dataset_test_split.json \\\n",
    "--results_path1=workdir/results/test-paper_nouns_st_pattern_nounfilter/ \\\n",
    "--results_path2=workdir/results/test-paper_nouns_st_pattern_nounfilter/ \\\n",
    "--results_path3=workdir/results/test-paper_nouns_st_pattern_nounfilter/ \\\n",
    "--save_results_path=workdir/results/test-paper_nouns_st_pattern_nounfilter_merged \\\n",
    "--exp_names1='dt_59g_lem' \\\n",
    "--exp_names2='glove_840B_nolem' \\\n",
    "--exp_names3='melamud_baladd' \\\n",
    "--proc_funcs=None \\\n",
    "--merge_func='union'\n",
    "\n"
   ]
  },
  {
   "cell_type": "code",
   "execution_count": null,
   "metadata": {},
   "outputs": [],
   "source": [
    "!python -m src.run_evaluate \\\n",
    "--results_path=workdir/results/test-paper_nouns_st_pattern_nounfilter_merged"
   ]
  }
 ],
 "metadata": {
  "kernelspec": {
   "display_name": "Python 3 (ipykernel)",
   "language": "python",
   "name": "python3"
  },
  "language_info": {
   "codemirror_mode": {
    "name": "ipython",
    "version": 3
   },
   "file_extension": ".py",
   "mimetype": "text/x-python",
   "name": "python",
   "nbconvert_exporter": "python",
   "pygments_lexer": "ipython3",
   "version": "3.7.9"
  }
 },
 "nbformat": 4,
 "nbformat_minor": 4
}
