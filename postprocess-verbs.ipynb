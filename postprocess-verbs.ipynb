{
 "cells": [
  {
   "cell_type": "markdown",
   "metadata": {},
   "source": [
    "## single token verbs"
   ]
  },
  {
   "cell_type": "code",
   "execution_count": null,
   "metadata": {},
   "outputs": [],
   "source": [
    "proc_funcs_verbs = 'lemmatize,clean_noisy,filter_vocab'"
   ]
  },
  {
   "cell_type": "code",
   "execution_count": null,
   "metadata": {
    "scrolled": true
   },
   "outputs": [],
   "source": [
    "!python -m  src.run_postprocessing_predictions --n_jobs=24 \\\n",
    "--gold_path=workdir/data/swv_gold_dataset.pkl \\\n",
    "--test_indexes_path=workdir/framenet/swv_gold_dataset_test_split.json\\\n",
    "--results_path=workdir/results/paper_verbs_st \\\n",
    "--proc_funcs='lemmatize,clean_noisy,filter_verbs'\\\n",
    "--vocabulary_path=workdir/resources/verbs_list.txt\\\n",
    "--save_results_path=workdir/results/test-paper_verbs_st_pattern_vocabfilter\\\n",
    "--parser='pattern'"
   ]
  },
  {
   "cell_type": "code",
   "execution_count": null,
   "metadata": {},
   "outputs": [],
   "source": [
    "!python -m src.run_evaluate \\\n",
    "--results_path=workdir/results/test-paper_verbs_st\n"
   ]
  },
  {
   "cell_type": "markdown",
   "metadata": {},
   "source": [
    "## Combine/Merge\n"
   ]
  },
  {
   "cell_type": "code",
   "execution_count": null,
   "metadata": {
    "scrolled": true
   },
   "outputs": [],
   "source": [
    "!python -m src.run_merge_predictions --n_jobs=16 \\\n",
    "--gold_path=workdir/data/swv_gold_dataset.pkl \\\n",
    "--test_indexes_path=workdir/framenet/swv_gold_dataset_test_split.json\\\n",
    "--results_path1=workdir/results/test-paper_verbs_st_pattern_vocabfilter/ \\\n",
    "--results_path2=workdir/results/test-paper_verbs_st_pattern_vocabfilter/ \\\n",
    "--save_results_path=workdir/results/test-paper_verbs_st_pattern_vocabfilter_merged \\\n",
    "--exp_names1='fasttext_cc_nolem' \\\n",
    "--exp_names2='blc-ntok1-nunits1-nomask-k200-TandT' \\\n",
    "--proc_funcs=None \\\n",
    "--merge_func='union'\n",
    "\n",
    "!python -m src.run_merge_predictions --n_jobs=16 \\\n",
    "--gold_path=workdir/data/swv_gold_dataset.pkl \\\n",
    "--test_indexes_path=workdir/framenet/swv_gold_dataset_test_split.json\\\n",
    "--results_path1=workdir/results/test-paper_verbs_st_pattern_vocabfilter/ \\\n",
    "--results_path2=workdir/results/test-paper_verbs_st_pattern_vocabfilter/ \\\n",
    "--save_results_path=workdir/results/test-paper_verbs_st_pattern_vocabfilter_merged \\\n",
    "--exp_names1='blc-ntok1-nunits1-nomask-k200-TandT' \\\n",
    "--exp_names2='dt_59g_lem' \\\n",
    "--proc_funcs=None \\\n",
    "--merge_func='union'\n",
    "\n",
    "\n",
    "\n",
    "--gold_path=workdir/data/swv_gold_dataset.pkl \\\n",
    "--gold_path=workdir/data/swv_gold_dataset.pkl \\\n",
    "--test_indexes_path=workdir/framenet/swv_gold_dataset_test_split.json\\\n",
    "--results_path1=workdir/results/test-paper_verbs_st_pattern_vocabfilter/ \\\n",
    "--exp_names1=\"melamud_baladd\"\\\n",
    "--results_path2=workdir/results/test-paper_verbs_st_pattern_vocabfilter/ \\\n",
    "--exp_names2='fasttext_cc_nolem' \\\n",
    "--save_results_path=workdir/results/test-paper_verbs_st_pattern_vocabfilter_merged \\\n",
    "--proc_funcs=None \\\n",
    "--merge_func='union' \\\n",
    "--results_path3=workdir/results/test-paper_verbs_st_pattern_vocabfilter/ \\\n",
    "--exp_names3='blc-ntok1-nunits1-nomask-k200-TandT' \\\n"
   ]
  },
  {
   "cell_type": "code",
   "execution_count": null,
   "metadata": {
    "scrolled": true
   },
   "outputs": [],
   "source": [
    "!python -m src.run_evaluate \\\n",
    "--results_path=workdir/results/test-paper_verbs_st_pattern_vocabfilter"
   ]
  }
 ],
 "metadata": {
  "kernelspec": {
   "display_name": "Python 3 (ipykernel)",
   "language": "python",
   "name": "python3"
  },
  "language_info": {
   "codemirror_mode": {
    "name": "ipython",
    "version": 3
   },
   "file_extension": ".py",
   "mimetype": "text/x-python",
   "name": "python",
   "nbconvert_exporter": "python",
   "pygments_lexer": "ipython3",
   "version": "3.7.9"
  }
 },
 "nbformat": 4,
 "nbformat_minor": 4
}
