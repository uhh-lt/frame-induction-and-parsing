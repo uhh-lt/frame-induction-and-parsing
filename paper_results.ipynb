{
 "cells": [
  {
   "cell_type": "markdown",
   "metadata": {},
   "source": [
    "# Evaluate\n",
    "**module: src.run_evaluate**\n",
    "```\n",
    "!python -m src.run_evaluate --results_path $RESULTS_PATH --exp_names $EXP_NAMES\n",
    "```\n",
    "- results_path: directory with experiment results\n",
    "- exp_names: comma separated list of subdirs in results path, useful if only few experiments needs to be evaluated\n",
    "see the main funtion of the module for more options"
   ]
  },
  {
   "cell_type": "code",
   "execution_count": null,
   "metadata": {
    "scrolled": true
   },
   "outputs": [],
   "source": [
    "import src\n",
    "!python -m src.run_evaluate \\\n",
    "--results_path=workdir/results/test-paper_roles_st_stopword\\\n",
    "--exp_names=melamud_add,melamud_baladd,melamud_mult,melamud_balmult"
   ]
  },
  {
   "cell_type": "markdown",
   "metadata": {},
   "source": [
    "# Result Tables "
   ]
  },
  {
   "cell_type": "code",
   "execution_count": null,
   "metadata": {},
   "outputs": [],
   "source": [
    "import os\n",
    "import pandas as pd\n",
    "import json\n",
    "from src.result_analysis import create_precision_recall_plot, create_precision_plot\n",
    "pd.set_option('display.max_colwidth', None)\n",
    "\n",
    "\n",
    "def make_sorted_labels(precision_table):\n",
    "    return [elem(str) for elem in sorted(list([int(e) for e in precision_table[0].keys()]))]\n",
    "\n",
    "\n",
    "def make_precision_table(experiments, levels=[1,5], prefix='', round_signs=3):\n",
    "    if prefix!='':\n",
    "        prefix = prefix+'_'\n",
    "    precision_table = []\n",
    "    exp_names = []\n",
    "    for exp_path in experiments:\n",
    "        if type(exp_path) is tuple:\n",
    "            exp_path, exp_name = exp_path\n",
    "        else:\n",
    "            exp_name = exp_path.split('/')[-1]\n",
    "        \n",
    "        exp_names.append(exp_name)\n",
    "        try:\n",
    "            with open(os.path.join(exp_path, f'{prefix}precision.json')) as f:\n",
    "                precision_dict = json.load(f)\n",
    "        except Exception as ex:\n",
    "            continue\n",
    "        row = {\"model\": exp_name}\n",
    "        row1 = {level : round(prec, round_signs) for level, prec in precision_dict['precisions_at_level'].items()}\n",
    "        for k,v in row1.items():\n",
    "            row[k] = v\n",
    "            \n",
    "        if levels is None:\n",
    "            levels = [str(lev) for lev in sorted([int(e) for e in precision_dict['precisions_at_level'].keys()])]\n",
    "        else:\n",
    "            levels = [str(lev) for lev in levels]\n",
    "\n",
    "            row['MAP'] = round(precision_dict['map'], round_signs)\n",
    "        \n",
    "        precision_table.append(row)\n",
    "    \n",
    "    return pd.DataFrame(precision_table)[['model']+ levels + ['MAP']]\n"
   ]
  },
  {
   "cell_type": "markdown",
   "metadata": {},
   "source": [
    "## Upperbound"
   ]
  },
  {
   "cell_type": "code",
   "execution_count": null,
   "metadata": {},
   "outputs": [],
   "source": [
    "result_dir = 'workdir/upperbound_results'\n",
    "experiments = [\n",
    "    (f'{result_dir}/paper_roles_st/', 'LexicalUnit-Verbs'),\n",
    "    (f'{result_dir}/paper_nouns_st/', 'LexicalUnit-Nouns'),\n",
    "    (f'{result_dir}/paper_preds_st/', 'SemanticRoles')\n",
    "]\n",
    "\n",
    "result_table = make_precision_table(experiments, levels=[1,5])\n",
    "result_table=result_table.set_index(\"model\")\n",
    "result_table"
   ]
  },
  {
   "cell_type": "code",
   "execution_count": null,
   "metadata": {},
   "outputs": [],
   "source": [
    "print(result_table.to_latex())"
   ]
  },
  {
   "cell_type": "markdown",
   "metadata": {},
   "source": [
    "## Verbs"
   ]
  },
  {
   "cell_type": "code",
   "execution_count": null,
   "metadata": {},
   "outputs": [],
   "source": [
    "!ls workdir/results"
   ]
  },
  {
   "cell_type": "code",
   "execution_count": null,
   "metadata": {},
   "outputs": [],
   "source": [
    "result_dir = 'workdir/results'\n",
    "sub_dir = 'test-paper_verbs_st_pattern_vocabfilter'\n",
    "\n",
    "experiments = [\n",
    "\n",
    "    (f'{result_dir}/{sub_dir}/glove_840B_nolem/', 'GloVe'),\n",
    "    (f'{result_dir}/{sub_dir}/fasttext_cc_nolem/', 'fastText'),\n",
    "    (f'{result_dir}/{sub_dir}/word2vec_googlenews_nolem/', 'word2vec'),\n",
    "    \n",
    "    (f'{result_dir}/{sub_dir}/dt_wiki_lem', 'DT wiki'),\n",
    "    (f'{result_dir}/{sub_dir}/dt_59g_lem', 'DT 59g'),\n",
    "\n",
    "    \n",
    "    (f'{result_dir}/{sub_dir}/melamud_add', 'Melamud add'),\n",
    "    (f'{result_dir}/{sub_dir}/melamud_baladd', 'Melamud balAdd'),\n",
    "    (f'{result_dir}/{sub_dir}/melamud_mult', 'Melamud mult'),\n",
    "    (f'{result_dir}/{sub_dir}/melamud_balmult', 'Melamud balMult'),\n",
    "\n",
    "    (f'{result_dir}/{sub_dir}/blc-ntok1-nunits1-nomask-k200', 'BERT large cased w/o mask'),\n",
    "    (f'{result_dir}/{sub_dir}/gie_swv_test_semiPURExlnet', 'XLNet'),\n",
    "        \n",
    "    (f'{result_dir}/{sub_dir}/blc-ntok1-nunits1-nomask-k200-Tand', 'BERT large cased Tand w/o mask'),\n",
    "    (f'{result_dir}/{sub_dir}/blc-ntok1-nunits1-nomask-k200-TandT', 'BERT large cased TandT w/o mask'),\n",
    "    (f'{result_dir}/{sub_dir}/gie_swv_test_semiPUREBert_embs', 'BERT+embs (default))'),\n",
    "\n",
    "    (f'{result_dir}/{sub_dir}/gie_swv_test_semiPURExlnet_embs', 'XLNet+embs (default)'),\n",
    "    \n",
    "    (f'{result_dir}/{sub_dir}/gie_swv_test_semiPURExlnet_embs_swvhypers', 'XLNet+embs (optimal)'),\n",
    "]\n",
    "\n",
    "result_table = make_precision_table(experiments, prefix=prefix)\n",
    "result_table=result_table.set_index(\"model\")\n",
    "result_table"
   ]
  },
  {
   "cell_type": "code",
   "execution_count": null,
   "metadata": {
    "scrolled": true
   },
   "outputs": [],
   "source": [
    "# print(result_table.to_latex())"
   ]
  },
  {
   "cell_type": "markdown",
   "metadata": {},
   "source": [
    "## Nouns"
   ]
  },
  {
   "cell_type": "code",
   "execution_count": null,
   "metadata": {},
   "outputs": [],
   "source": [
    "result_dir = 'workdir/results'\n",
    "sub_dir = 'test-paper_nouns_st_pattern_stopwords_nounfilter'\n",
    "# sub_dir = 'test-paper_nouns_st_lemminflect_stopwords_nounfilter'\n",
    "experiments = [\n",
    "\n",
    "    (f'{result_dir}/{sub_dir}/glove_840B_nolem/', 'GloVe'),\n",
    "    (f'{result_dir}/{sub_dir}/fasttext_cc_nolem/', 'fastText'),\n",
    "    (f'{result_dir}/{sub_dir}/word2vec_googlenews_nolem/', 'word2vec'),\n",
    "    \n",
    "    (f'{result_dir}/{sub_dir}/dt_wiki_lem', 'DT wiki'),\n",
    "    (f'{result_dir}/{sub_dir}/dt_59g_lem', 'DT 59g'),\n",
    "\n",
    "    \n",
    "    (f'{result_dir}/{sub_dir}/melamud_add', 'Melamud add'),\n",
    "    (f'{result_dir}/{sub_dir}/melamud_baladd', 'Melamud balAdd'),\n",
    "    (f'{result_dir}/{sub_dir}/melamud_mult', 'Melamud mult'),\n",
    "    (f'{result_dir}/{sub_dir}/melamud_balmult', 'Melamud balMult'),\n",
    "\n",
    "    (f'{result_dir}/{sub_dir}/blc-ntok1-nunits1-nomask-k200', 'BERT large cased w/o mask'),\n",
    "        (f'{result_dir}/{sub_dir}/gie_swn_test_semiPURExlnet', 'XLNet'),\n",
    "\n",
    "    (f'{result_dir}/{sub_dir}/blc-ntok1-nunits1-nomask-k200-Tand', 'BERT large cased Tand w/o mask'),\n",
    "    (f'{result_dir}/{sub_dir}/blc-ntok1-nunits1-nomask-k200-TandT', 'BERT large cased TandT w/o mask'),\n",
    "    (f'{result_dir}/{sub_dir}/gie_swn_test_semiPUREBert_embs', 'BERT+embs (default))'),\n",
    "\n",
    "    (f'{result_dir}/{sub_dir}/gie_swn_test_semiPURExlnet_embs', 'XLNet+embs (default)'),\n",
    "    (f'{result_dir}/{sub_dir}/gie_swn_test_semiPURExlnet_embs_swnhypers', 'XLNet+embs (optimal)'),\n",
    "]\n",
    "\n",
    " \n",
    "print(sub_dir)\n",
    "result_table = make_precision_table(experiments)\n",
    "result_table=result_table.set_index(\"model\")\n",
    "result_table"
   ]
  },
  {
   "cell_type": "code",
   "execution_count": null,
   "metadata": {},
   "outputs": [],
   "source": [
    "# print(result_table.to_latex())"
   ]
  },
  {
   "cell_type": "markdown",
   "metadata": {},
   "source": [
    "## Roles"
   ]
  },
  {
   "cell_type": "code",
   "execution_count": null,
   "metadata": {},
   "outputs": [],
   "source": [
    "result_dir = 'workdir/results'\n",
    "sub_dir = 'test-paper_roles_st_pattern'\n",
    "# sub_dir = 'test-paper_roles_st_pattern_stopwords'\n",
    "\n",
    "experiments = [\n",
    "\n",
    "    (f'{result_dir}/{sub_dir}/glove_840B_nolem/', 'GloVe'),\n",
    "    (f'{result_dir}/{sub_dir}/fasttext_cc_nolem/', 'fastText'),\n",
    "    (f'{result_dir}/{sub_dir}/word2vec_googlenews_nolem/', 'word2vec'),\n",
    "    \n",
    "    (f'{result_dir}/{sub_dir}/dt_wiki_lem', 'DT wiki'),\n",
    "    (f'{result_dir}/{sub_dir}/dt_59g_lem', 'DT 59g'),\n",
    "\n",
    "    \n",
    "    (f'{result_dir}/{sub_dir}/melamud_add', 'Melamud add'),\n",
    "    (f'{result_dir}/{sub_dir}/melamud_baladd', 'Melamud balAdd'),\n",
    "    (f'{result_dir}/{sub_dir}/melamud_mult', 'Melamud mult'),\n",
    "    (f'{result_dir}/{sub_dir}/melamud_balmult', 'Melamud balMult'),\n",
    "\n",
    "    (f'{result_dir}/{sub_dir}/blc-ntok1-nunits1-nomask-k200', 'BERT large cased w/o mask'),\n",
    "         (f'{result_dir}/{sub_dir}/gie_swr_test_semiPURExlnet', 'XLNet'),\n",
    "\n",
    "    (f'{result_dir}/{sub_dir}/blc-ntok1-nunits1-nomask-k200-Tand', 'BERT large cased Tand w/o mask'),\n",
    "    (f'{result_dir}/{sub_dir}/blc-ntok1-nunits1-nomask-k200-TandT', 'BERT large cased TandT w/o mask'),\n",
    "\n",
    "    (f'{result_dir}/{sub_dir}/gie_swr_test_semiPUREBert_embs', 'BERT+embs (default))'),\n",
    "\n",
    "    (f'{result_dir}/{sub_dir}/gie_swr_test_semiPURExlnet_embs', 'XLNet+embs (default)'),\n",
    "    (f'{result_dir}/{sub_dir}/gie_swr_test_semiPURExlnet_embs_swrhypers', ' XLNet+embs (optimal)'),\n",
    "\n",
    "]\n",
    "\n",
    "result_table = make_precision_table(experiments)\n",
    "result_table=result_table.set_index(\"model\")\n",
    "result_table"
   ]
  },
  {
   "cell_type": "code",
   "execution_count": null,
   "metadata": {},
   "outputs": [],
   "source": [
    "# print(result_table2.to_latex())"
   ]
  },
  {
   "cell_type": "markdown",
   "metadata": {},
   "source": [
    "## Merged models"
   ]
  },
  {
   "cell_type": "markdown",
   "metadata": {},
   "source": [
    "### simplyfy names for merged models"
   ]
  },
  {
   "cell_type": "code",
   "execution_count": null,
   "metadata": {},
   "outputs": [],
   "source": [
    "def pretify(x):\n",
    "    \n",
    "    x = x.replace(\"gie_swv_test_semiPURExlnet_embs_swvhypers\", \"XLNet embs\")\n",
    "    x = x.replace(\"gie_swr_test_semiPURExlnet_embs_swrhypers\", \"XLNet embs\")\n",
    "    x = x.replace(\"gie_swn_test_semiPURExlnet_embs_swnhypers\", \"XLNet embs\")\n",
    "\n",
    "    x = x.replace(\"gie_swv_test_semiPURExlnet\", \"XLNet\")\n",
    "    x = x.replace(\"gie_swr_test_semiPURExlnet\", \"XLNet\")\n",
    "    x = x.replace(\"gie_swn_test_semiPURExlnet\", \"XLNet\")\n",
    "\n",
    "    x = x.replace(\"-ntok1-nunits1-nomask-k200\", \"\")\n",
    "    x = x.replace(\"-ntok1-nunits1-mask-k200\", \"\")\n",
    "\n",
    "    x = x.replace(\"blc\", \"BERT\")\n",
    "    x = x.replace(\"-TandT\", \" [TandT]\")\n",
    "    x = x.replace(\"glove_840B_nolem\", \"nc-emb\")\n",
    "    x = x.replace(\"fasttext_cc_nolem\", \"nc-emb\")\n",
    "    x = x.replace(\"dt_59g_lem\", \"DT\")\n",
    "    x = x.replace(\"dt_wiki_lem\", \"DT\")\n",
    "    x = x.replace(\"melamud_baladd\", \"Melamud balAdd\")\n",
    "    x = x.strip()\n",
    "    \n",
    "    order = {\"XLNet embs\": 0,\n",
    "             \"XLNet\": 1,\n",
    "            \"BERT [TandT]\":2,\n",
    "            \"BERT\":3,\n",
    "            \"Melamud balAdd\":4,\n",
    "             \"nc-emb\" : 5,\n",
    "             \"DT\":6\n",
    "            }\n",
    "    \n",
    "    x = x.split(\"+\")\n",
    "#     print(x)\n",
    "    o = [(t, order[t]) for t in x]\n",
    "    o = sorted(o, key=lambda x:x[1])\n",
    "    x = [t[0] for t in o]\n",
    "#     print(x)\n",
    "    x = \" + \".join(x)\n",
    "\n",
    "    return x\n"
   ]
  },
  {
   "cell_type": "code",
   "execution_count": null,
   "metadata": {},
   "outputs": [],
   "source": [
    "print_order = \"\"\"nc-emb + DT                                 \n",
    "Melamud balAdd + DT                      \n",
    "Melamud balAdd + nc-emb                     \n",
    "XLNet + nc-emb                              \n",
    "XLNet + DT                               \n",
    "XLNet + Melamud balAdd                   \n",
    "XLNet+embs + nc-emb                         \n",
    "XLNet+embs + DT                          \n",
    "XLNet+embs + Melamud balAdd              \n",
    "Melamud balAdd + nc-emb + DT                \n",
    "XLNet + nc-emb + DT                         \n",
    "XLNet + Melamud balAdd + nc-emb             \n",
    "XLNet + Melamud balAdd + DT             \n",
    "XLNet+embs + nc-emb + DT                    \n",
    "XLNet+embs + Melamud balAdd + DT\"\"\".split(\"\\n\")\n",
    "print_order = [l.strip().replace('+embs', ' embs') for l in print_order]\n",
    "print_order"
   ]
  },
  {
   "cell_type": "markdown",
   "metadata": {},
   "source": [
    "### Verbs"
   ]
  },
  {
   "cell_type": "code",
   "execution_count": null,
   "metadata": {},
   "outputs": [],
   "source": [
    "!ls workdir/results"
   ]
  },
  {
   "cell_type": "code",
   "execution_count": null,
   "metadata": {
    "scrolled": false
   },
   "outputs": [],
   "source": [
    "path = \"workdir/results/test-paper_verbs_st_pattern_vocabfilter_merged\"\n",
    "experiments = os.listdir(path)\n",
    "experiments = [f'{path}/{exp}' for exp in experiments if not \".\" in exp]\n",
    "\n",
    "experiments.sort()\n",
    "result_table = make_precision_table(experiments)\n",
    "result_table['model']=result_table['model'].apply(lambda x:pretify(x))\n",
    "\n",
    "result_table = result_table.loc[result_table['model'].apply(lambda x: not 'BERT' in x)].reset_index(drop=True)\n",
    "result_table['order'] = result_table['model'].apply(lambda x: print_order.index(x) if x in print_order else 100)\n",
    "\n",
    "result_table= result_table.sort_values(by='order', ascending=True).reset_index(drop=True)\n",
    "\n",
    "result_table=result_table.set_index(\"model\")\n",
    "result_table"
   ]
  },
  {
   "cell_type": "markdown",
   "metadata": {},
   "source": [
    "### Nouns"
   ]
  },
  {
   "cell_type": "code",
   "execution_count": null,
   "metadata": {},
   "outputs": [],
   "source": [
    "path = \"workdir/results/test-paper_nouns_st_pattern_stopwords_nounfilter_merged\"\n",
    "experiments = os.listdir(path)\n",
    "experiments = [f'{path}/{exp}' for exp in experiments if not \".\" in exp]\n",
    "\n",
    "experiments.sort()\n",
    "result_table = make_precision_table(experiments)\n",
    "result_table['model']=result_table['model'].apply(lambda x:pretify(x))\n",
    "\n",
    "result_table = result_table.loc[result_table['model'].apply(lambda x: not 'BERT' in x)].reset_index(drop=True)\n",
    "result_table['order'] = result_table['model'].apply(lambda x: print_order.index(x) if x in print_order else 100)\n",
    "\n",
    "result_table= result_table.sort_values(by='order', ascending=True).reset_index(drop=True)\n",
    "\n",
    "\n",
    "result_table=result_table.set_index(\"model\")\n",
    "result_table"
   ]
  },
  {
   "cell_type": "code",
   "execution_count": null,
   "metadata": {},
   "outputs": [],
   "source": [
    "print(result_table.to_latex())"
   ]
  },
  {
   "cell_type": "markdown",
   "metadata": {},
   "source": [
    "### Roles"
   ]
  },
  {
   "cell_type": "code",
   "execution_count": null,
   "metadata": {},
   "outputs": [],
   "source": [
    "path = \"workdir/results/test-paper_roles_st_pattern_merged\"\n",
    "# path = \"workdir/results/test-paper_roles_st_pattern_stopwords_merged\"\n",
    "experiments = os.listdir(path)\n",
    "experiments = [f'{path}/{exp}' for exp in experiments if not \".\" in exp]\n",
    "# experiments = [exp for exp in experiments if \"T\" in exp]\n",
    "experiments.sort()\n",
    "result_table2 = make_precision_table(experiments)\n",
    "result_table2['model']=result_table2['model'].apply(lambda x:pretify(x))\n",
    "\n",
    "result_table2 = result_table2.loc[result_table2['model'].apply(lambda x: not 'BERT' in x)].reset_index(drop=True)\n",
    "result_table2['order'] = result_table2['model'].apply(lambda x: print_order.index(x) if x in print_order else 100)\n",
    "\n",
    "result_table2= result_table2.sort_values(by='order', ascending=True).reset_index(drop=True)\n",
    "\n",
    "\n",
    "result_table2=result_table2.set_index(\"model\")\n",
    "result_table2"
   ]
  },
  {
   "cell_type": "markdown",
   "metadata": {},
   "source": [
    "# Precision Curves"
   ]
  },
  {
   "cell_type": "code",
   "execution_count": null,
   "metadata": {},
   "outputs": [],
   "source": [
    "def create_multiple_curves(experiments, score_file_name, prefixes=None):\n",
    "    curves = {}\n",
    "    \n",
    "    for i, exp in enumerate(experiments):\n",
    "        if type(exp) is tuple:\n",
    "            exp, exp_name = exp\n",
    "        else:\n",
    "            exp_name = exp.split('/')[-1]\n",
    "            \n",
    "        if prefixes!=None:\n",
    "            prefix = prefixes[i]+'_'\n",
    "            if prefix=='_':\n",
    "                prefix=''\n",
    "        else:\n",
    "            prefix=''\n",
    "#         print(prefix)    \n",
    "        curve = pd.read_csv(os.path.join(exp, prefix+score_file_name))\n",
    "#         print(curve)\n",
    "        curves[exp_name] = curve\n",
    "    return curves\n",
    "\n",
    "def create_multiple_precision_recall_curves(experiments, prefixes):\n",
    "    return create_multiple_curves(experiments, 'precision_recall.csv', prefixes=prefixes)\n",
    "\n",
    "\n",
    "def create_multiple_precision_curves(experiments, prefixes):\n",
    "    return create_multiple_curves(experiments, 'precs_all_hard.csv', prefixes=prefixes)"
   ]
  },
  {
   "cell_type": "code",
   "execution_count": null,
   "metadata": {
    "scrolled": false
   },
   "outputs": [],
   "source": [
    "import pandas as pd\n",
    "import matplotlib.pyplot as plt\n",
    "from typing import Dict, Tuple\n",
    "from itertools import cycle\n",
    "import numpy as np\n",
    "\n",
    "\n",
    "#DEFAULT_COLORS = cycle(['b', 'r', 'g', 'y', 'black', 'brown', '#660066', 'orange'])\n",
    "DEFAULT_COLORS = ['b', 'r', 'g', 'y', 'black', 'brown', '#660066', 'orange']\n",
    "    \n",
    "    \n",
    "def create_precision_plot(precision_curves: Dict[str, pd.DataFrame], \n",
    "                          colors=DEFAULT_COLORS, output_path=None, step=True):\n",
    "    \"\"\" precision_recall_curves: {exp_name : pd.DataFrame([precision, recall])} \"\"\"\n",
    "    \n",
    "    plt.figure(dpi=200, figsize=(6.4, 4.8), facecolor='w', edgecolor='k')\n",
    "    \n",
    "    max_y = -1\n",
    "    rng = 0\n",
    "    for i, (exp_name, curve) in enumerate(precision_curves.items()):\n",
    "        data = pd.DataFrame({'precision' : curve.precs_all_hard})\n",
    "        \n",
    "        col = colors[i]\n",
    "        marker = ''\n",
    "        if type(col) is tuple:\n",
    "            col, marker = col\n",
    "        \n",
    "        rng = np.array(range(1, data.shape[0] + 1))\n",
    "        if step:\n",
    "            graph = plt.step(rng, data['precision'], color=col, \n",
    "                             marker=marker, alpha=0.5, where='post', linewidth=1.)\n",
    "        else:\n",
    "            graph = plt.plot(rng, data['precision'], \n",
    "                             color=col, marker=marker, alpha=0.5, linewidth=1.)\n",
    "            \n",
    "        graph[0].set_label(exp_name)\n",
    "        \n",
    "        if data['precision'].max() > max_y:\n",
    "            max_y = data['precision'].max()\n",
    "\n",
    "    plt.xlabel('k')\n",
    "    plt.ylabel('Precision')\n",
    "    plt.ylim([0.0, max_y + 0.025])\n",
    "    plt.xlim([0.0, len(rng) + 1])\n",
    "    plt.legend(prop={'size': 9})\n",
    "    \n",
    "    if output_path is not None:\n",
    "        plt.savefig(output_path)\n",
    "        \n",
    "def create_precision_plots(precision_curves: Dict[str, pd.DataFrame], \n",
    "                           precision_curves2: Dict[str, pd.DataFrame], \n",
    "                           precision_curves3: Dict[str, pd.DataFrame],\n",
    "                          colors=DEFAULT_COLORS, output_path=None, step=True):\n",
    "    \"\"\" precision_recall_curves: {exp_name : pd.DataFrame([precision, recall])} \"\"\"\n",
    "    fig, axes = plt.subplots(3,1, \n",
    "                         dpi=480,\n",
    "                         figsize=(10, 8))\n",
    "\n",
    "#     plt.figure(dpi=200, figsize=(6.4, 4.8), facecolor='w', edgecolor='k')\n",
    "    \n",
    "    max_y = -1\n",
    "    rng = 0\n",
    "    for i, (exp_name, curve) in enumerate(precision_curves.items()):\n",
    "        data = pd.DataFrame({'precision' : curve.precs_all_hard})\n",
    "        \n",
    "        col = colors[i]\n",
    "        marker = ''\n",
    "        if type(col) is tuple:\n",
    "            col, marker = col\n",
    "        \n",
    "        rng = np.array(range(1, data.shape[0] + 1))\n",
    "        if step:\n",
    "            graph = axes[0].step(rng, data['precision'], color=col, \n",
    "                             marker=marker, alpha=0.5, where='post', linewidth=1.)\n",
    "        else:\n",
    "            graph = axes[0].plot(rng, data['precision'], \n",
    "                             color=col, marker=marker, alpha=0.5, linewidth=1.)\n",
    "            \n",
    "        graph[0].set_label(exp_name)\n",
    "        \n",
    "        if data['precision'].max() > max_y:\n",
    "            max_y = data['precision'].max()\n",
    "\n",
    "    axes[0].set_ylabel('Precision')\n",
    "    axes[0].set_ylim([0.0, max_y + 0.025])\n",
    "#     axes[0].xlim([0.0, len(rng) + 1])\n",
    "#     axes[0].legend(prop={'size': 9})\n",
    "    for i, (exp_name, curve) in enumerate(precision_curves2.items()):\n",
    "        data = pd.DataFrame({'precision' : curve.precs_all_hard})\n",
    "        \n",
    "        col = colors[i]\n",
    "        marker = ''\n",
    "        if type(col) is tuple:\n",
    "            col, marker = col\n",
    "        \n",
    "        rng = np.array(range(1, data.shape[0] + 1))\n",
    "        if step:\n",
    "            graph = axes[1].step(rng, data['precision'], color=col, \n",
    "                             marker=marker, alpha=0.5, where='post', linewidth=1.)\n",
    "        else:\n",
    "            graph = axes[1].plot(rng, data['precision'], \n",
    "                             color=col, marker=marker, alpha=0.5, linewidth=1.)\n",
    "            \n",
    "        graph[0].set_label(exp_name)\n",
    "        \n",
    "        if data['precision'].max() > max_y:\n",
    "            max_y = data['precision'].max()    \n",
    "            \n",
    "    axes[1].set_ylabel('Precision')\n",
    "    axes[1].set_ylim([0.0, max_y + 0.025])\n",
    "    for i, (exp_name, curve) in enumerate(precision_curves3.items()):\n",
    "        data = pd.DataFrame({'precision' : curve.precs_all_hard})\n",
    "        \n",
    "        col = colors[i]\n",
    "        marker = ''\n",
    "        if type(col) is tuple:\n",
    "            col, marker = col\n",
    "        \n",
    "        rng = np.array(range(1, data.shape[0] + 1))\n",
    "        if step:\n",
    "            graph = axes[2].step(rng, data['precision'], color=col, \n",
    "                             marker=marker, alpha=0.5, where='post', linewidth=1.)\n",
    "        else:\n",
    "            graph = axes[2].plot(rng, data['precision'], \n",
    "                             color=col, marker=marker, alpha=0.5, linewidth=1.)\n",
    "            \n",
    "        graph[0].set_label(exp_name)\n",
    "        \n",
    "        if data['precision'].max() > max_y:\n",
    "            max_y = data['precision'].max()\n",
    "            \n",
    "            \n",
    "    axes[2].set_ylabel('Precision') \n",
    "    axes[2].set_xlabel('k')\n",
    "    axes[2].set_ylim([0.0, max_y + 0.025])\n",
    "#     axes[0].xlim([0.0, len(rng) + 1])\n",
    "#     axes[0].legend(prop={'size': 9})\n",
    "#     axes[1].legend(prop={'size': 9})\n",
    "# font1 = {\n",
    "# #                 'family': 'serif',\n",
    "#                     'color':  colors[i],\n",
    "#                     'weight': 'bold',\n",
    "#                     'size': 7\n",
    "#                     }\n",
    "    axes[0].text(.83, .98, 'Verb Lexical Unit',\n",
    "                 ha='left', va='top', \n",
    "                 transform = axes[0].transAxes)\n",
    "    axes[1].text(.83, .98, 'Noun Lexical Unit',\n",
    "                 ha='left', va='top', \n",
    "                 transform = axes[1].transAxes)\n",
    "    \n",
    "    axes[2].text(.83, .98, 'Semantic Role',\n",
    "                 ha='left', va='top', \n",
    "                 transform = axes[2].transAxes)\n",
    "    \n",
    "#     axes[0].set_title(f'Verbs-Lexical Unit')\n",
    "#     axes[1].set_title(f'Nouns-Lexical Unit')\n",
    "#     axes[2].set_title(f'Frame Roles')\n",
    "\n",
    "    lines_labels = [ax.get_legend_handles_labels() for ax in fig.axes[:1]]\n",
    "    lines, labels = [sum(lol, []) for lol in zip(*lines_labels)]\n",
    "    plt.figlegend( lines, labels, loc = 'lower center', ncol=4, labelspacing=0. , bbox_to_anchor=(0.5, -0.001))\n",
    "\n",
    "    if output_path is not None:\n",
    "        plt.savefig(output_path)\n"
   ]
  },
  {
   "cell_type": "markdown",
   "metadata": {},
   "source": [
    "### Verbs"
   ]
  },
  {
   "cell_type": "code",
   "execution_count": null,
   "metadata": {},
   "outputs": [],
   "source": [
    "result_dir = '~/generative-ie/workdir/results'\n",
    "res_dir = 'test-paper_verbs_st_pattern_vocabfilter'\n",
    "\n",
    "experiments = [\n",
    "    (f'{result_dir}/{res_dir}/gie_swv_test_semiPURExlnet_embs_swvhypers/', 'default', '','black'),\n",
    "    (f'{result_dir}/{res_dir}/gie_swv_test_semiPURExlnet_embs_swvhypers/', 'mgs-5', 'mcs-5','green'),\n",
    "    (f'{result_dir}/{res_dir}/gie_swv_test_semiPURExlnet_embs_swvhypers/', 'mgs-10', 'mcs-10', 'red'),\n",
    "    (f'{result_dir}/{res_dir}/gie_swv_test_semiPURExlnet_embs_swvhypers/', 'mgs-15', 'mcs-15', 'purple'),\n",
    "\n",
    "]\n",
    "\n",
    "# colors = ['#63B8FF',  'b',  '#DB7093', 'red', '#696969',  'black', 'b',\n",
    "#             '#660066', 'brown', '#FFC0CB', '#00FF00', 'red', '#FF8C00']\n",
    "\n",
    "colors = [exp[-1] for exp in experiments]\n",
    "prefixes = [exp[-2] for exp in experiments]\n",
    "experiments = [exp[:2] for exp in experiments]\n",
    "\n",
    "curves1 = create_multiple_precision_curves(experiments, prefixes=prefixes)\n",
    "create_precision_plot(curves1, output_path=None, colors=colors, step=False)\n"
   ]
  },
  {
   "cell_type": "markdown",
   "metadata": {},
   "source": [
    "### Nouns"
   ]
  },
  {
   "cell_type": "code",
   "execution_count": null,
   "metadata": {},
   "outputs": [],
   "source": [
    "res_dir = 'test-paper_nouns_st_pattern_stopwords_nounfilter'\n",
    "output_path = result_dir + 'cluster_size_preds.png'\n",
    "\n",
    "experiments = [\n",
    "    (f'{result_dir}/{res_dir}/gie_swn_test_semiPURExlnet_embs_swnhypers/', 'default', '','black'),\n",
    "    (f'{result_dir}/{res_dir}/gie_swn_test_semiPURExlnet_embs_swnhypers/', 'mgs-5', 'mcs-5','green'),\n",
    "    (f'{result_dir}/{res_dir}/gie_swn_test_semiPURExlnet_embs_swnhypers/', 'mgs-10', 'mcs-10', 'red'),\n",
    "    (f'{result_dir}/{res_dir}/gie_swn_test_semiPURExlnet_embs_swnhypers/', 'mgs-15', 'mcs-15', 'purple'),\n",
    "\n",
    "]\n",
    "\n",
    "# colors = ['#63B8FF',  'b',  '#DB7093', 'red', '#696969',  'black', 'b',\n",
    "#             '#660066', 'brown', '#FFC0CB', '#00FF00', 'red', '#FF8C00']\n",
    "\n",
    "colors = [exp[-1] for exp in experiments]\n",
    "prefixes = [exp[-2] for exp in experiments]\n",
    "experiments = [exp[:2] for exp in experiments]\n",
    "\n",
    "curves2 = create_multiple_precision_curves(experiments, prefixes=prefixes)\n",
    "create_precision_plot(curves2, output_path=None, colors=colors, step=False)\n"
   ]
  },
  {
   "cell_type": "markdown",
   "metadata": {},
   "source": [
    "### Roles"
   ]
  },
  {
   "cell_type": "code",
   "execution_count": null,
   "metadata": {},
   "outputs": [],
   "source": [
    "res_dir = 'test-paper_roles_st_pattern'\n",
    "output_path = result_dir + 'cluster_size_preds.png'\n",
    "\n",
    "experiments = [\n",
    "    (f'{result_dir}/{res_dir}/gie_swr_test_semiPURExlnet_embs_swrhypers/', 'default', '','black'),\n",
    "    (f'{result_dir}/{res_dir}/gie_swr_test_semiPURExlnet_embs_swrhypers/', 'mgs-5', 'mcs-5','green'),\n",
    "    (f'{result_dir}/{res_dir}/gie_swr_test_semiPURExlnet_embs_swrhypers/', 'mgs-10', 'mcs-10', 'red'),\n",
    "    (f'{result_dir}/{res_dir}/gie_swr_test_semiPURExlnet_embs_swrhypers/', 'mgs-15', 'mcs-15', 'purple'),\n",
    "\n",
    "]\n",
    "\n",
    "# colors = ['#63B8FF',  'b',  '#DB7093', 'red', '#696969',  'black', 'b',\n",
    "#             '#660066', 'brown', '#FFC0CB', '#00FF00', 'red', '#FF8C00']\n",
    "\n",
    "colors = [exp[-1] for exp in experiments]\n",
    "prefixes = [exp[-2] for exp in experiments]\n",
    "experiments = [exp[:2] for exp in experiments]\n",
    "\n",
    "curves3 = create_multiple_precision_curves(experiments, prefixes=prefixes)\n",
    "create_precision_plot(curves3, output_path=None, colors=colors, step=False)\n"
   ]
  },
  {
   "cell_type": "markdown",
   "metadata": {},
   "source": [
    "### Combine"
   ]
  },
  {
   "cell_type": "code",
   "execution_count": null,
   "metadata": {},
   "outputs": [],
   "source": [
    "create_precision_plots(curves1, curves2, curves3, output_path=None, colors=colors, step=False)\n"
   ]
  },
  {
   "cell_type": "code",
   "execution_count": null,
   "metadata": {},
   "outputs": [],
   "source": []
  }
 ],
 "metadata": {
  "kernelspec": {
   "display_name": "Python 3 (ipykernel)",
   "language": "python",
   "name": "python3"
  },
  "language_info": {
   "codemirror_mode": {
    "name": "ipython",
    "version": 3
   },
   "file_extension": ".py",
   "mimetype": "text/x-python",
   "name": "python",
   "nbconvert_exporter": "python",
   "pygments_lexer": "ipython3",
   "version": "3.7.9"
  }
 },
 "nbformat": 4,
 "nbformat_minor": 4
}
